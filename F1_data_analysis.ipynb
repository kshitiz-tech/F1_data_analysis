{
 "cells": [
  {
   "cell_type": "code",
   "execution_count": 1,
   "id": "c244e7fe-ef2d-4048-a6c1-8101ab657de5",
   "metadata": {},
   "outputs": [],
   "source": [
    "#all the necessary imports \n",
    "import pandas as pd\n",
    "import numpy as np\n",
    "import matplotlib.pyplot as plt\n",
    "import chardet\n",
    "import seaborn as sns\n",
    "    "
   ]
  },
  {
   "cell_type": "markdown",
   "id": "6ef9d3ab-d1d2-4f1e-8a29-e7a24d45642b",
   "metadata": {},
   "source": [
    "Which team has better pit Stop duration?\n",
    "which team has improved their pitStop duration?\n",
    "\n",
    "No. of pitStop and pitStop duration and its corelation to the final position\n"
   ]
  },
  {
   "cell_type": "markdown",
   "id": "8fab56c3-9f11-4ab4-b2c2-2be555e6d6d0",
   "metadata": {},
   "source": [
    "Investigate pit stop frequency, duration distributions, and correlation with final position.\n",
    "\n",
    "Compare constructors' pit stop efficiency and its evolution over seasons.\n",
    "\n",
    "Examine the relationship between pit stop timing, lap performance, and race outcome."
   ]
  },
  {
   "cell_type": "code",
   "execution_count": 2,
   "id": "fb8d129c-acac-4c04-b53f-dae7471e8038",
   "metadata": {},
   "outputs": [],
   "source": [
    "def function_find_encoding(filepath):\n",
    "    with open(filepath, \"rb\") as f:\n",
    "        result = chardet.detect(f.read(10000))\n",
    "        encoding = result['encoding']\n",
    "    return encoding\n",
    "constructors = pd.read_csv(\"f1/constructors.csv\", encoding = function_find_encoding(\"f1/constructors.csv\"))\n",
    "drivers = pd.read_csv(\"f1/drivers.csv\", encoding = function_find_encoding(\"f1/drivers.csv\"))\n",
    "races = pd.read_csv(\"f1/races.csv\", encoding = function_find_encoding(\"f1/races.csv\"))\n",
    "results = pd.read_csv(\"f1/results.csv\", encoding = function_find_encoding(\"f1/results.csv\"))\n",
    "pitStops = pd.read_csv(\"f1/pitStops.csv\", encoding = function_find_encoding(\"f1/pitStops.csv\"))\n",
    "\n",
    "    "
   ]
  },
  {
   "cell_type": "code",
   "execution_count": 3,
   "id": "895d1a60-bac2-4bfb-a694-77fb8018b23b",
   "metadata": {},
   "outputs": [],
   "source": [
    "status = pd.read_csv(\"f1/status.csv\", encoding = function_find_encoding(\"f1/status.csv\"))"
   ]
  },
  {
   "cell_type": "code",
   "execution_count": 4,
   "id": "6e183dc7-a6ad-4282-bc20-c4cfd0be1442",
   "metadata": {},
   "outputs": [
    {
     "name": "stdout",
     "output_type": "stream",
     "text": [
      "constructors shape: (208, 6)\n",
      "drivers shape: (842, 9)\n",
      "races shape: (997, 8)\n",
      "results shape: (23777, 18)\n",
      "pitStops shape: (6251, 7)\n",
      "status shape: (134, 2)\n"
     ]
    }
   ],
   "source": [
    "def find_shape(df, df_name):\n",
    "    print(f\"{df_name} shape: {df.shape}\")\n",
    "find_shape(constructors, \"constructors\")\n",
    "find_shape(drivers,\"drivers\")\n",
    "find_shape(races, \"races\")\n",
    "find_shape(results, \"results\")\n",
    "find_shape(pitStops, \"pitStops\")\n",
    "find_shape(status, \"status\")\n"
   ]
  },
  {
   "cell_type": "code",
   "execution_count": 5,
   "id": "de8ff167-28f3-4646-89ad-b650e77f6542",
   "metadata": {},
   "outputs": [
    {
     "data": {
      "text/plain": [
       "Index(['constructorId', 'constructorRef', 'name', 'nationality', 'url',\n",
       "       'Unnamed: 5'],\n",
       "      dtype='object')"
      ]
     },
     "execution_count": 5,
     "metadata": {},
     "output_type": "execute_result"
    }
   ],
   "source": [
    "constructors.columns\n"
   ]
  },
  {
   "cell_type": "code",
   "execution_count": 6,
   "id": "5862c743-ccce-46d6-9438-2149ff223487",
   "metadata": {},
   "outputs": [
    {
     "data": {
      "text/plain": [
       "Index(['driverId', 'driverRef', 'number', 'code', 'forename', 'surname', 'dob',\n",
       "       'nationality', 'url'],\n",
       "      dtype='object')"
      ]
     },
     "execution_count": 6,
     "metadata": {},
     "output_type": "execute_result"
    }
   ],
   "source": [
    "drivers.columns\n"
   ]
  },
  {
   "cell_type": "code",
   "execution_count": 7,
   "id": "62c3b656-2161-48bb-aba4-1b425e77f832",
   "metadata": {},
   "outputs": [
    {
     "data": {
      "text/plain": [
       "Index(['raceId', 'year', 'round', 'circuitId', 'name', 'date', 'time', 'url'], dtype='object')"
      ]
     },
     "execution_count": 7,
     "metadata": {},
     "output_type": "execute_result"
    }
   ],
   "source": [
    "races.columns\n"
   ]
  },
  {
   "cell_type": "code",
   "execution_count": 8,
   "id": "794e3e38-5f56-4ca4-bbe1-cd83a67a76c9",
   "metadata": {},
   "outputs": [
    {
     "data": {
      "text/plain": [
       "Index(['resultId', 'raceId', 'driverId', 'constructorId', 'number', 'grid',\n",
       "       'position', 'positionText', 'positionOrder', 'points', 'laps', 'time',\n",
       "       'milliseconds', 'fastestLap', 'rank', 'fastestLapTime',\n",
       "       'fastestLapSpeed', 'statusId'],\n",
       "      dtype='object')"
      ]
     },
     "execution_count": 8,
     "metadata": {},
     "output_type": "execute_result"
    }
   ],
   "source": [
    "results.columns\n"
   ]
  },
  {
   "cell_type": "code",
   "execution_count": 9,
   "id": "8528bd00-61c3-4e1b-b498-83d99bd2c728",
   "metadata": {},
   "outputs": [
    {
     "data": {
      "text/plain": [
       "Index(['raceId', 'driverId', 'stop', 'lap', 'time', 'duration',\n",
       "       'milliseconds'],\n",
       "      dtype='object')"
      ]
     },
     "execution_count": 9,
     "metadata": {},
     "output_type": "execute_result"
    }
   ],
   "source": [
    "pitStops.columns\n"
   ]
  },
  {
   "cell_type": "code",
   "execution_count": 10,
   "id": "719c0583-f971-4883-b3a7-4d1242bb6597",
   "metadata": {},
   "outputs": [
    {
     "data": {
      "text/plain": [
       "Index(['statusId', 'status'], dtype='object')"
      ]
     },
     "execution_count": 10,
     "metadata": {},
     "output_type": "execute_result"
    }
   ],
   "source": [
    "status.columns"
   ]
  },
  {
   "cell_type": "code",
   "execution_count": 11,
   "id": "e956a584-c1b0-48d2-9144-abc949a7a029",
   "metadata": {},
   "outputs": [
    {
     "data": {
      "text/html": [
       "<div>\n",
       "<style scoped>\n",
       "    .dataframe tbody tr th:only-of-type {\n",
       "        vertical-align: middle;\n",
       "    }\n",
       "\n",
       "    .dataframe tbody tr th {\n",
       "        vertical-align: top;\n",
       "    }\n",
       "\n",
       "    .dataframe thead th {\n",
       "        text-align: right;\n",
       "    }\n",
       "</style>\n",
       "<table border=\"1\" class=\"dataframe\">\n",
       "  <thead>\n",
       "    <tr style=\"text-align: right;\">\n",
       "      <th></th>\n",
       "      <th>raceId</th>\n",
       "      <th>year</th>\n",
       "      <th>round</th>\n",
       "      <th>circuitId</th>\n",
       "      <th>name</th>\n",
       "      <th>date</th>\n",
       "      <th>time</th>\n",
       "      <th>url</th>\n",
       "    </tr>\n",
       "  </thead>\n",
       "  <tbody>\n",
       "    <tr>\n",
       "      <th>789</th>\n",
       "      <td>790</td>\n",
       "      <td>1956</td>\n",
       "      <td>7</td>\n",
       "      <td>20</td>\n",
       "      <td>German Grand Prix</td>\n",
       "      <td>1956-08-05</td>\n",
       "      <td>NaN</td>\n",
       "      <td>http://en.wikipedia.org/wiki/1956_German_Grand...</td>\n",
       "    </tr>\n",
       "    <tr>\n",
       "      <th>915</th>\n",
       "      <td>918</td>\n",
       "      <td>2014</td>\n",
       "      <td>19</td>\n",
       "      <td>24</td>\n",
       "      <td>Abu Dhabi Grand Prix</td>\n",
       "      <td>2014-11-23</td>\n",
       "      <td>13:00:00</td>\n",
       "      <td>http://en.wikipedia.org/wiki/2014_Abu_Dhabi_Gr...</td>\n",
       "    </tr>\n",
       "    <tr>\n",
       "      <th>106</th>\n",
       "      <td>107</td>\n",
       "      <td>2004</td>\n",
       "      <td>18</td>\n",
       "      <td>18</td>\n",
       "      <td>Brazilian Grand Prix</td>\n",
       "      <td>2004-10-24</td>\n",
       "      <td>NaN</td>\n",
       "      <td>http://en.wikipedia.org/wiki/2004_Brazilian_Gr...</td>\n",
       "    </tr>\n",
       "    <tr>\n",
       "      <th>199</th>\n",
       "      <td>200</td>\n",
       "      <td>1998</td>\n",
       "      <td>10</td>\n",
       "      <td>23</td>\n",
       "      <td>Austrian Grand Prix</td>\n",
       "      <td>1998-07-26</td>\n",
       "      <td>NaN</td>\n",
       "      <td>http://en.wikipedia.org/wiki/1998_Austrian_Gra...</td>\n",
       "    </tr>\n",
       "    <tr>\n",
       "      <th>639</th>\n",
       "      <td>640</td>\n",
       "      <td>1971</td>\n",
       "      <td>9</td>\n",
       "      <td>14</td>\n",
       "      <td>Italian Grand Prix</td>\n",
       "      <td>1971-09-05</td>\n",
       "      <td>NaN</td>\n",
       "      <td>http://en.wikipedia.org/wiki/1971_Italian_Gran...</td>\n",
       "    </tr>\n",
       "    <tr>\n",
       "      <th>39</th>\n",
       "      <td>40</td>\n",
       "      <td>2007</td>\n",
       "      <td>5</td>\n",
       "      <td>6</td>\n",
       "      <td>Monaco Grand Prix</td>\n",
       "      <td>2007-05-27</td>\n",
       "      <td>12:00:00</td>\n",
       "      <td>http://en.wikipedia.org/wiki/2007_Monaco_Grand...</td>\n",
       "    </tr>\n",
       "    <tr>\n",
       "      <th>970</th>\n",
       "      <td>983</td>\n",
       "      <td>2017</td>\n",
       "      <td>15</td>\n",
       "      <td>2</td>\n",
       "      <td>Malaysian Grand Prix</td>\n",
       "      <td>2017-10-01</td>\n",
       "      <td>07:00:00</td>\n",
       "      <td>https://en.wikipedia.org/wiki/2017_Malaysian_G...</td>\n",
       "    </tr>\n",
       "    <tr>\n",
       "      <th>498</th>\n",
       "      <td>499</td>\n",
       "      <td>1980</td>\n",
       "      <td>2</td>\n",
       "      <td>18</td>\n",
       "      <td>Brazilian Grand Prix</td>\n",
       "      <td>1980-01-27</td>\n",
       "      <td>NaN</td>\n",
       "      <td>http://en.wikipedia.org/wiki/1980_Brazilian_Gr...</td>\n",
       "    </tr>\n",
       "    <tr>\n",
       "      <th>965</th>\n",
       "      <td>978</td>\n",
       "      <td>2017</td>\n",
       "      <td>10</td>\n",
       "      <td>9</td>\n",
       "      <td>British Grand Prix</td>\n",
       "      <td>2017-07-16</td>\n",
       "      <td>12:00:00</td>\n",
       "      <td>https://en.wikipedia.org/wiki/2017_British_Gra...</td>\n",
       "    </tr>\n",
       "    <tr>\n",
       "      <th>733</th>\n",
       "      <td>734</td>\n",
       "      <td>1962</td>\n",
       "      <td>6</td>\n",
       "      <td>20</td>\n",
       "      <td>German Grand Prix</td>\n",
       "      <td>1962-08-05</td>\n",
       "      <td>NaN</td>\n",
       "      <td>http://en.wikipedia.org/wiki/1962_German_Grand...</td>\n",
       "    </tr>\n",
       "  </tbody>\n",
       "</table>\n",
       "</div>"
      ],
      "text/plain": [
       "     raceId  year  round  circuitId                  name        date  \\\n",
       "789     790  1956      7         20     German Grand Prix  1956-08-05   \n",
       "915     918  2014     19         24  Abu Dhabi Grand Prix  2014-11-23   \n",
       "106     107  2004     18         18  Brazilian Grand Prix  2004-10-24   \n",
       "199     200  1998     10         23   Austrian Grand Prix  1998-07-26   \n",
       "639     640  1971      9         14    Italian Grand Prix  1971-09-05   \n",
       "39       40  2007      5          6     Monaco Grand Prix  2007-05-27   \n",
       "970     983  2017     15          2  Malaysian Grand Prix  2017-10-01   \n",
       "498     499  1980      2         18  Brazilian Grand Prix  1980-01-27   \n",
       "965     978  2017     10          9    British Grand Prix  2017-07-16   \n",
       "733     734  1962      6         20     German Grand Prix  1962-08-05   \n",
       "\n",
       "         time                                                url  \n",
       "789       NaN  http://en.wikipedia.org/wiki/1956_German_Grand...  \n",
       "915  13:00:00  http://en.wikipedia.org/wiki/2014_Abu_Dhabi_Gr...  \n",
       "106       NaN  http://en.wikipedia.org/wiki/2004_Brazilian_Gr...  \n",
       "199       NaN  http://en.wikipedia.org/wiki/1998_Austrian_Gra...  \n",
       "639       NaN  http://en.wikipedia.org/wiki/1971_Italian_Gran...  \n",
       "39   12:00:00  http://en.wikipedia.org/wiki/2007_Monaco_Grand...  \n",
       "970  07:00:00  https://en.wikipedia.org/wiki/2017_Malaysian_G...  \n",
       "498       NaN  http://en.wikipedia.org/wiki/1980_Brazilian_Gr...  \n",
       "965  12:00:00  https://en.wikipedia.org/wiki/2017_British_Gra...  \n",
       "733       NaN  http://en.wikipedia.org/wiki/1962_German_Grand...  "
      ]
     },
     "execution_count": 11,
     "metadata": {},
     "output_type": "execute_result"
    }
   ],
   "source": [
    "races.sample(10)"
   ]
  },
  {
   "cell_type": "code",
   "execution_count": 12,
   "id": "7a22712e-0946-4f59-91bb-e17b977f0593",
   "metadata": {},
   "outputs": [
    {
     "data": {
      "text/plain": [
       "np.int64(1950)"
      ]
     },
     "execution_count": 12,
     "metadata": {},
     "output_type": "execute_result"
    }
   ],
   "source": [
    "races.year.min()"
   ]
  },
  {
   "cell_type": "code",
   "execution_count": 13,
   "id": "bbcc6c79-e2a1-4814-b908-d022bb76fa4d",
   "metadata": {},
   "outputs": [
    {
     "data": {
      "text/plain": [
       "np.int64(2018)"
      ]
     },
     "execution_count": 13,
     "metadata": {},
     "output_type": "execute_result"
    }
   ],
   "source": [
    "races.year.max()"
   ]
  },
  {
   "cell_type": "code",
   "execution_count": 14,
   "id": "83a38881-8fb3-4974-a7e4-d630a0f209ed",
   "metadata": {},
   "outputs": [],
   "source": [
    "races_to_be_evaluated = races[races.year >= 2000]"
   ]
  },
  {
   "cell_type": "code",
   "execution_count": 15,
   "id": "f2417a51-c8d4-4dc8-a291-84e7c78756fc",
   "metadata": {},
   "outputs": [
    {
     "data": {
      "text/plain": [
       "(351, 8)"
      ]
     },
     "execution_count": 15,
     "metadata": {},
     "output_type": "execute_result"
    }
   ],
   "source": [
    "races_to_be_evaluated.shape"
   ]
  },
  {
   "cell_type": "code",
   "execution_count": 16,
   "id": "e2484e24-ed5a-4a9c-8ca6-247b8fc06ca7",
   "metadata": {},
   "outputs": [],
   "source": [
    "race_Id_all = races.raceId.unique()"
   ]
  },
  {
   "cell_type": "code",
   "execution_count": 17,
   "id": "51e01389-6a53-4e52-b05b-6c169609f945",
   "metadata": {},
   "outputs": [
    {
     "data": {
      "text/plain": [
       "array([2009, 2008, 2007, 2006, 2005, 2004, 2003, 2002, 2001, 2000, 2010,\n",
       "       2011, 2012, 2013, 2014, 2015, 2016, 2017, 2018])"
      ]
     },
     "execution_count": 17,
     "metadata": {},
     "output_type": "execute_result"
    }
   ],
   "source": [
    "races_to_be_evaluated.year.unique()"
   ]
  },
  {
   "cell_type": "code",
   "execution_count": 18,
   "id": "5d36b866-96ac-49b5-9b32-c488304954f0",
   "metadata": {},
   "outputs": [],
   "source": [
    "#variable to keep the array of all the raceIds from year 2000 to 2018\n",
    "race_0_18_id = races_to_be_evaluated.raceId.unique()"
   ]
  },
  {
   "cell_type": "code",
   "execution_count": 19,
   "id": "8da652d8-7fd5-41ed-a65b-777a9a467495",
   "metadata": {},
   "outputs": [],
   "source": [
    "common = list(np.intersect1d(race_Id_all, race_0_18_id))\n"
   ]
  },
  {
   "cell_type": "code",
   "execution_count": 20,
   "id": "90555999-4c39-4a8d-bc7e-2641df373b89",
   "metadata": {},
   "outputs": [],
   "source": [
    "#look for all the ids that are not common, i.e find raceId which are beyond our timeline\n",
    "race_Id_out =[]\n",
    "\n",
    "for i in range(0, len(race_Id_all)):\n",
    "    if race_Id_all[i] not in common:\n",
    "        race_Id_out.append(race_Id_all[i]) #store it in the variable \n"
   ]
  },
  {
   "cell_type": "code",
   "execution_count": 21,
   "id": "c8ba6445-23b3-41ff-b636-a8447a2b7a54",
   "metadata": {},
   "outputs": [
    {
     "data": {
      "text/html": [
       "<div>\n",
       "<style scoped>\n",
       "    .dataframe tbody tr th:only-of-type {\n",
       "        vertical-align: middle;\n",
       "    }\n",
       "\n",
       "    .dataframe tbody tr th {\n",
       "        vertical-align: top;\n",
       "    }\n",
       "\n",
       "    .dataframe thead th {\n",
       "        text-align: right;\n",
       "    }\n",
       "</style>\n",
       "<table border=\"1\" class=\"dataframe\">\n",
       "  <thead>\n",
       "    <tr style=\"text-align: right;\">\n",
       "      <th></th>\n",
       "      <th>raceId</th>\n",
       "      <th>driverId</th>\n",
       "      <th>stop</th>\n",
       "      <th>lap</th>\n",
       "      <th>time</th>\n",
       "      <th>duration</th>\n",
       "      <th>milliseconds</th>\n",
       "    </tr>\n",
       "  </thead>\n",
       "  <tbody>\n",
       "    <tr>\n",
       "      <th>4644</th>\n",
       "      <td>949</td>\n",
       "      <td>828</td>\n",
       "      <td>2</td>\n",
       "      <td>29</td>\n",
       "      <td>18:52:47</td>\n",
       "      <td>25.363</td>\n",
       "      <td>25363</td>\n",
       "    </tr>\n",
       "    <tr>\n",
       "      <th>1418</th>\n",
       "      <td>864</td>\n",
       "      <td>808</td>\n",
       "      <td>3</td>\n",
       "      <td>44</td>\n",
       "      <td>15:11:45</td>\n",
       "      <td>21.817</td>\n",
       "      <td>21817</td>\n",
       "    </tr>\n",
       "    <tr>\n",
       "      <th>296</th>\n",
       "      <td>845</td>\n",
       "      <td>2</td>\n",
       "      <td>2</td>\n",
       "      <td>36</td>\n",
       "      <td>14:59:22</td>\n",
       "      <td>21.953</td>\n",
       "      <td>21953</td>\n",
       "    </tr>\n",
       "    <tr>\n",
       "      <th>1328</th>\n",
       "      <td>863</td>\n",
       "      <td>20</td>\n",
       "      <td>2</td>\n",
       "      <td>25</td>\n",
       "      <td>15:45:43</td>\n",
       "      <td>22.717</td>\n",
       "      <td>22717</td>\n",
       "    </tr>\n",
       "    <tr>\n",
       "      <th>3586</th>\n",
       "      <td>913</td>\n",
       "      <td>821</td>\n",
       "      <td>1</td>\n",
       "      <td>15</td>\n",
       "      <td>20:33:38</td>\n",
       "      <td>33.679</td>\n",
       "      <td>33679</td>\n",
       "    </tr>\n",
       "  </tbody>\n",
       "</table>\n",
       "</div>"
      ],
      "text/plain": [
       "      raceId  driverId  stop  lap      time duration  milliseconds\n",
       "4644     949       828     2   29  18:52:47   25.363         25363\n",
       "1418     864       808     3   44  15:11:45   21.817         21817\n",
       "296      845         2     2   36  14:59:22   21.953         21953\n",
       "1328     863        20     2   25  15:45:43   22.717         22717\n",
       "3586     913       821     1   15  20:33:38   33.679         33679"
      ]
     },
     "execution_count": 21,
     "metadata": {},
     "output_type": "execute_result"
    }
   ],
   "source": [
    "pitStops.sample(5)"
   ]
  },
  {
   "cell_type": "code",
   "execution_count": 22,
   "id": "01b0b364-f956-4c61-b346-3603957939d1",
   "metadata": {},
   "outputs": [],
   "source": [
    "#analysing pitStop with race results\n",
    "pitStops_copy = pitStops.copy()\n",
    "\n"
   ]
  },
  {
   "cell_type": "code",
   "execution_count": 23,
   "id": "69e6164f-20d7-4e7d-b88a-8b8be111f77d",
   "metadata": {},
   "outputs": [],
   "source": [
    "results_copy = results.copy()"
   ]
  },
  {
   "cell_type": "code",
   "execution_count": 24,
   "id": "c5461849-23e0-4a13-b861-134f3a796fa2",
   "metadata": {},
   "outputs": [],
   "source": [
    "pitStops_copy = pitStops_copy[(pitStops_copy.raceId < race_Id_out[0]) | (pitStops_copy.raceId > race_Id_out[-1]) ]"
   ]
  },
  {
   "cell_type": "code",
   "execution_count": 25,
   "id": "01fffd2b-d862-4b99-abac-0f79fde6c1e7",
   "metadata": {
    "scrolled": true
   },
   "outputs": [
    {
     "data": {
      "text/html": [
       "<div>\n",
       "<style scoped>\n",
       "    .dataframe tbody tr th:only-of-type {\n",
       "        vertical-align: middle;\n",
       "    }\n",
       "\n",
       "    .dataframe tbody tr th {\n",
       "        vertical-align: top;\n",
       "    }\n",
       "\n",
       "    .dataframe thead th {\n",
       "        text-align: right;\n",
       "    }\n",
       "</style>\n",
       "<table border=\"1\" class=\"dataframe\">\n",
       "  <thead>\n",
       "    <tr style=\"text-align: right;\">\n",
       "      <th></th>\n",
       "      <th>raceId</th>\n",
       "      <th>driverId</th>\n",
       "      <th>stop</th>\n",
       "      <th>lap</th>\n",
       "      <th>time</th>\n",
       "      <th>duration</th>\n",
       "      <th>milliseconds</th>\n",
       "    </tr>\n",
       "  </thead>\n",
       "  <tbody>\n",
       "    <tr>\n",
       "      <th>4315</th>\n",
       "      <td>939</td>\n",
       "      <td>830</td>\n",
       "      <td>2</td>\n",
       "      <td>36</td>\n",
       "      <td>21:16:29</td>\n",
       "      <td>30.844</td>\n",
       "      <td>30844</td>\n",
       "    </tr>\n",
       "    <tr>\n",
       "      <th>3969</th>\n",
       "      <td>929</td>\n",
       "      <td>815</td>\n",
       "      <td>2</td>\n",
       "      <td>37</td>\n",
       "      <td>19:06:50</td>\n",
       "      <td>25.288</td>\n",
       "      <td>25288</td>\n",
       "    </tr>\n",
       "    <tr>\n",
       "      <th>6217</th>\n",
       "      <td>987</td>\n",
       "      <td>840</td>\n",
       "      <td>4</td>\n",
       "      <td>28</td>\n",
       "      <td>14:42:27</td>\n",
       "      <td>22.486</td>\n",
       "      <td>22486</td>\n",
       "    </tr>\n",
       "    <tr>\n",
       "      <th>852</th>\n",
       "      <td>855</td>\n",
       "      <td>1</td>\n",
       "      <td>1</td>\n",
       "      <td>8</td>\n",
       "      <td>15:17:14</td>\n",
       "      <td>21.091</td>\n",
       "      <td>21091</td>\n",
       "    </tr>\n",
       "    <tr>\n",
       "      <th>829</th>\n",
       "      <td>854</td>\n",
       "      <td>20</td>\n",
       "      <td>2</td>\n",
       "      <td>30</td>\n",
       "      <td>21:01:48</td>\n",
       "      <td>30.809</td>\n",
       "      <td>30809</td>\n",
       "    </tr>\n",
       "    <tr>\n",
       "      <th>493</th>\n",
       "      <td>848</td>\n",
       "      <td>10</td>\n",
       "      <td>2</td>\n",
       "      <td>42</td>\n",
       "      <td>15:20:26</td>\n",
       "      <td>22.030</td>\n",
       "      <td>22030</td>\n",
       "    </tr>\n",
       "    <tr>\n",
       "      <th>4941</th>\n",
       "      <td>956</td>\n",
       "      <td>815</td>\n",
       "      <td>2</td>\n",
       "      <td>26</td>\n",
       "      <td>14:35:10</td>\n",
       "      <td>21.412</td>\n",
       "      <td>21412</td>\n",
       "    </tr>\n",
       "    <tr>\n",
       "      <th>1656</th>\n",
       "      <td>870</td>\n",
       "      <td>39</td>\n",
       "      <td>1</td>\n",
       "      <td>18</td>\n",
       "      <td>14:34:22</td>\n",
       "      <td>21.259</td>\n",
       "      <td>21259</td>\n",
       "    </tr>\n",
       "    <tr>\n",
       "      <th>5475</th>\n",
       "      <td>967</td>\n",
       "      <td>807</td>\n",
       "      <td>1</td>\n",
       "      <td>20</td>\n",
       "      <td>14:47:44</td>\n",
       "      <td>33:28.504</td>\n",
       "      <td>2008504</td>\n",
       "    </tr>\n",
       "    <tr>\n",
       "      <th>2974</th>\n",
       "      <td>899</td>\n",
       "      <td>4</td>\n",
       "      <td>1</td>\n",
       "      <td>21</td>\n",
       "      <td>14:31:09</td>\n",
       "      <td>22.755</td>\n",
       "      <td>22755</td>\n",
       "    </tr>\n",
       "  </tbody>\n",
       "</table>\n",
       "</div>"
      ],
      "text/plain": [
       "      raceId  driverId  stop  lap      time   duration  milliseconds\n",
       "4315     939       830     2   36  21:16:29     30.844         30844\n",
       "3969     929       815     2   37  19:06:50     25.288         25288\n",
       "6217     987       840     4   28  14:42:27     22.486         22486\n",
       "852      855         1     1    8  15:17:14     21.091         21091\n",
       "829      854        20     2   30  21:01:48     30.809         30809\n",
       "493      848        10     2   42  15:20:26     22.030         22030\n",
       "4941     956       815     2   26  14:35:10     21.412         21412\n",
       "1656     870        39     1   18  14:34:22     21.259         21259\n",
       "5475     967       807     1   20  14:47:44  33:28.504       2008504\n",
       "2974     899         4     1   21  14:31:09     22.755         22755"
      ]
     },
     "execution_count": 25,
     "metadata": {},
     "output_type": "execute_result"
    }
   ],
   "source": [
    "pitStops_copy.sample(10)"
   ]
  },
  {
   "cell_type": "code",
   "execution_count": 26,
   "id": "2210c091-4ac1-4e5b-92f6-c6d511ef71d9",
   "metadata": {},
   "outputs": [
    {
     "data": {
      "text/plain": [
       "raceId          6251\n",
       "driverId        6251\n",
       "stop            6251\n",
       "lap             6251\n",
       "time            6251\n",
       "duration        6251\n",
       "milliseconds    6251\n",
       "dtype: int64"
      ]
     },
     "execution_count": 26,
     "metadata": {},
     "output_type": "execute_result"
    }
   ],
   "source": [
    "pitStops_copy.count()"
   ]
  },
  {
   "cell_type": "code",
   "execution_count": 27,
   "id": "5e1d8c73-f319-4e24-813a-5bcb7343cfac",
   "metadata": {},
   "outputs": [
    {
     "data": {
      "text/plain": [
       "raceId           int64\n",
       "driverId         int64\n",
       "stop             int64\n",
       "lap              int64\n",
       "time            object\n",
       "duration        object\n",
       "milliseconds     int64\n",
       "dtype: object"
      ]
     },
     "execution_count": 27,
     "metadata": {},
     "output_type": "execute_result"
    }
   ],
   "source": [
    "pitStops_copy.dtypes"
   ]
  },
  {
   "cell_type": "code",
   "execution_count": 28,
   "id": "2e679ba5-5409-40d6-9541-c879a0f99eb8",
   "metadata": {},
   "outputs": [
    {
     "data": {
      "text/plain": [
       "(np.int64(12897), np.int64(2011266))"
      ]
     },
     "execution_count": 28,
     "metadata": {},
     "output_type": "execute_result"
    }
   ],
   "source": [
    " pitStops_copy.milliseconds.min(), pitStops_copy.milliseconds.max()"
   ]
  },
  {
   "cell_type": "code",
   "execution_count": 29,
   "id": "ca176de3-104f-4e31-8178-9ac0543aaf6f",
   "metadata": {},
   "outputs": [],
   "source": [
    "median = pitStops_copy.milliseconds.median()\n",
    "q1 = pitStops_copy.milliseconds.quantile(0.25)\n",
    "q3 = pitStops_copy.milliseconds.quantile(0.75)\n",
    "iqr = q3 - q1\n",
    "threshold = q3 + 1.5 * iqr\n",
    "pitStops_copy[\"milliseconds\"] = np.where(pitStops_copy.milliseconds > threshold,\n",
    "                                          median, \n",
    "                                          pitStops_copy.milliseconds)"
   ]
  },
  {
   "cell_type": "code",
   "execution_count": 30,
   "id": "52dd8938-1982-45da-9aa2-f3dc0fb5a1a3",
   "metadata": {},
   "outputs": [
    {
     "data": {
      "text/plain": [
       "(np.float64(12897.0), np.float64(31207.0))"
      ]
     },
     "execution_count": 30,
     "metadata": {},
     "output_type": "execute_result"
    }
   ],
   "source": [
    " pitStops_copy.milliseconds.min(), pitStops_copy.milliseconds.max()"
   ]
  },
  {
   "cell_type": "code",
   "execution_count": 31,
   "id": "558537d9-a26c-4cb1-9ff6-01407966c87d",
   "metadata": {},
   "outputs": [
    {
     "data": {
      "text/plain": [
       "(134, 2)"
      ]
     },
     "execution_count": 31,
     "metadata": {},
     "output_type": "execute_result"
    }
   ],
   "source": [
    "status.shape"
   ]
  },
  {
   "cell_type": "code",
   "execution_count": 32,
   "id": "1371ba47-4383-4534-bb98-19096df2562c",
   "metadata": {},
   "outputs": [
    {
     "data": {
      "text/plain": [
       "array(['Finished', 'Disqualified', 'Accident', 'Collision', 'Engine',\n",
       "       'Gearbox', 'Transmission', 'Clutch', 'Hydraulics', 'Electrical',\n",
       "       '+1 Lap', '+2 Laps', '+3 Laps', '+4 Laps', '+5 Laps', '+6 Laps',\n",
       "       '+7 Laps', '+8 Laps', '+9 Laps', 'Spun off', 'Radiator',\n",
       "       'Suspension', 'Brakes', 'Differential', 'Overheating',\n",
       "       'Mechanical', 'Tyre', 'Driver Seat', 'Puncture', 'Driveshaft',\n",
       "       'Retired', 'Fuel pressure', 'Front wing', 'Water pressure',\n",
       "       'Refuelling', 'Wheel', 'Throttle', 'Steering', 'Technical',\n",
       "       'Electronics', 'Broken wing', 'Heat shield fire', 'Exhaust',\n",
       "       'Oil leak', '+11 Laps', 'Wheel rim', 'Water leak', 'Fuel pump',\n",
       "       'Track rod', '+17 Laps', 'Oil pressure', '+42 Laps', '+13 Laps',\n",
       "       'Withdrew', '+12 Laps', 'Engine fire', 'Engine misfire',\n",
       "       '+26 Laps', 'Tyre puncture', 'Out of fuel', 'Wheel nut',\n",
       "       'Not classified', 'Pneumatics', 'Handling', 'Rear wing', 'Fire',\n",
       "       'Wheel bearing', 'Physical', 'Fuel system', 'Oil line', 'Fuel rig',\n",
       "       'Launch control', 'Injured', 'Fuel', 'Power loss', 'Vibrations',\n",
       "       '107% Rule', 'Safety', 'Drivetrain', 'Ignition', 'Did not qualify',\n",
       "       'Injury', 'Chassis', 'Battery', 'Stalled', 'Halfshaft',\n",
       "       'Crankshaft', '+10 Laps', 'Safety concerns', 'Not restarted',\n",
       "       'Alternator', 'Underweight', 'Safety belt', 'Oil pump',\n",
       "       'Fuel leak', 'Excluded', 'Did not prequalify', 'Injection',\n",
       "       'Distributor', 'Driver unwell', 'Turbo', 'CV joint', 'Water pump',\n",
       "       'Fatal accident', 'Spark plugs', 'Fuel pipe', 'Eye injury',\n",
       "       'Oil pipe', 'Axle', 'Water pipe', '+14 Laps', '+15 Laps',\n",
       "       '+25 Laps', '+18 Laps', '+22 Laps', '+16 Laps', '+24 Laps',\n",
       "       '+29 Laps', '+23 Laps', '+21 Laps', 'Magneto', '+44 Laps',\n",
       "       '+30 Laps', '+19 Laps', '+46 Laps', 'Supercharger', '+20 Laps',\n",
       "       'Collision damage', 'Power Unit', 'ERS', '+49 Laps', '+38 Laps',\n",
       "       'Brake duct', 'Seat'], dtype=object)"
      ]
     },
     "execution_count": 32,
     "metadata": {},
     "output_type": "execute_result"
    }
   ],
   "source": [
    "#to find out the instances of the status column \n",
    "status.status.unique()\n"
   ]
  },
  {
   "cell_type": "code",
   "execution_count": 33,
   "id": "ddd013f9-1bcd-4668-9185-879a9d373a66",
   "metadata": {},
   "outputs": [
    {
     "data": {
      "text/plain": [
       "0    1\n",
       "Name: statusId, dtype: int64"
      ]
     },
     "execution_count": 33,
     "metadata": {},
     "output_type": "execute_result"
    }
   ],
   "source": [
    "status.statusId[status.status == \"Finished\"]"
   ]
  },
  {
   "cell_type": "code",
   "execution_count": 34,
   "id": "9c04301e-6b2e-40c0-9911-bc9f8dfd4f01",
   "metadata": {},
   "outputs": [],
   "source": [
    "#constraint the data of results of which status is finished( which have statusId of 1)\n",
    "results_copy[\"statusId\"] = np.where( results_copy.statusId > 1, np.nan, 1)"
   ]
  },
  {
   "cell_type": "code",
   "execution_count": 35,
   "id": "61c4a181-093c-45fe-8d82-9b9b8f2fa265",
   "metadata": {},
   "outputs": [],
   "source": [
    "results_filtered = results_copy.dropna(subset = [\"statusId\"])"
   ]
  },
  {
   "cell_type": "code",
   "execution_count": 36,
   "id": "66ac9c76-426d-4ce7-8c4c-634c5e1d1f52",
   "metadata": {
    "scrolled": true
   },
   "outputs": [],
   "source": [
    "results_filtered = results_filtered.drop([\"number\", \"points\", \"laps\", \"time\", \"milliseconds\", \"fastestLap\", \"statusId\"], axis = 1)"
   ]
  },
  {
   "cell_type": "code",
   "execution_count": 37,
   "id": "4d58837d-64b8-4e01-b85f-e098fe5981a6",
   "metadata": {},
   "outputs": [
    {
     "data": {
      "text/plain": [
       "(6009, 11)"
      ]
     },
     "execution_count": 37,
     "metadata": {},
     "output_type": "execute_result"
    }
   ],
   "source": [
    "results_filtered.shape"
   ]
  },
  {
   "cell_type": "code",
   "execution_count": 38,
   "id": "56f8b21c-54d2-4cac-981c-525ba43be201",
   "metadata": {},
   "outputs": [
    {
     "data": {
      "text/plain": [
       "resultId           6009\n",
       "raceId             6009\n",
       "driverId           6009\n",
       "constructorId      6009\n",
       "grid               6009\n",
       "position           6009\n",
       "positionText       6009\n",
       "positionOrder      6009\n",
       "rank               2626\n",
       "fastestLapTime     2611\n",
       "fastestLapSpeed    2611\n",
       "dtype: int64"
      ]
     },
     "execution_count": 38,
     "metadata": {},
     "output_type": "execute_result"
    }
   ],
   "source": [
    "results_filtered.count()"
   ]
  },
  {
   "cell_type": "code",
   "execution_count": 39,
   "id": "1969425f-32af-4bd8-80b8-ee166b1565e3",
   "metadata": {},
   "outputs": [],
   "source": [
    "results_filtered = results_filtered.dropna(subset = [\"rank\", \"fastestLapTime\", \"fastestLapSpeed\"])"
   ]
  },
  {
   "cell_type": "code",
   "execution_count": 40,
   "id": "1cfafcd3-c216-4bf1-9ea0-d2369a5b3988",
   "metadata": {},
   "outputs": [
    {
     "name": "stdout",
     "output_type": "stream",
     "text": [
      "(2611, 11)\n",
      "resultId           2611\n",
      "raceId             2611\n",
      "driverId           2611\n",
      "constructorId      2611\n",
      "grid               2611\n",
      "position           2611\n",
      "positionText       2611\n",
      "positionOrder      2611\n",
      "rank               2611\n",
      "fastestLapTime     2611\n",
      "fastestLapSpeed    2611\n",
      "dtype: int64\n"
     ]
    }
   ],
   "source": [
    "print(results_filtered.shape)\n",
    "print(results_filtered.count())\n"
   ]
  },
  {
   "cell_type": "code",
   "execution_count": 41,
   "id": "09321d4a-3770-48bd-ab37-28a6238bdbda",
   "metadata": {},
   "outputs": [],
   "source": [
    "pitStop_result = pd.merge(results_filtered, pitStops_copy, on = [\"raceId\", \"driverId\"], how = \"inner\")"
   ]
  },
  {
   "cell_type": "code",
   "execution_count": 42,
   "id": "aa36a6f0-d978-42dc-b481-5d198c58cfb6",
   "metadata": {},
   "outputs": [
    {
     "data": {
      "text/plain": [
       "resultId           3183\n",
       "raceId             3183\n",
       "driverId           3183\n",
       "constructorId      3183\n",
       "grid               3183\n",
       "position           3183\n",
       "positionText       3183\n",
       "positionOrder      3183\n",
       "rank               3183\n",
       "fastestLapTime     3183\n",
       "fastestLapSpeed    3183\n",
       "stop               3183\n",
       "lap                3183\n",
       "time               3183\n",
       "duration           3183\n",
       "milliseconds       3183\n",
       "dtype: int64"
      ]
     },
     "execution_count": 42,
     "metadata": {},
     "output_type": "execute_result"
    }
   ],
   "source": [
    "pitStop_result.shape\n",
    "pitStop_result.count()"
   ]
  },
  {
   "cell_type": "code",
   "execution_count": 43,
   "id": "c446f50b-b192-48b7-8cc3-ac276652b666",
   "metadata": {},
   "outputs": [],
   "source": [
    "min_max_pitStop  = (pitStop_result.stop.min(), pitStop_result.stop.max())"
   ]
  },
  {
   "cell_type": "code",
   "execution_count": 44,
   "id": "f8cf9cec-d668-4657-87ad-148d64a004ed",
   "metadata": {},
   "outputs": [],
   "source": [
    "#creating new dataframes for the minimum and maximum no of pitStops\n",
    "min_pitStops = pitStop_result[pitStop_result.stop == min_max_pitStop[0]]\n",
    "max_pitStops = pitStop_result[pitStop_result.stop == min_max_pitStop[1]]"
   ]
  },
  {
   "cell_type": "code",
   "execution_count": 45,
   "id": "6d68d2b5-e99d-47c6-af3b-0a8fe646df7b",
   "metadata": {},
   "outputs": [
    {
     "name": "stdout",
     "output_type": "stream",
     "text": [
      "(1413, 16)\n",
      "(6, 16)\n"
     ]
    }
   ],
   "source": [
    "print(min_pitStops.shape)\n",
    "print(max_pitStops.shape)"
   ]
  },
  {
   "cell_type": "code",
   "execution_count": 46,
   "id": "14f7b249-1e81-482c-b0ff-96dea45b8a54",
   "metadata": {},
   "outputs": [
    {
     "data": {
      "text/html": [
       "<div>\n",
       "<style scoped>\n",
       "    .dataframe tbody tr th:only-of-type {\n",
       "        vertical-align: middle;\n",
       "    }\n",
       "\n",
       "    .dataframe tbody tr th {\n",
       "        vertical-align: top;\n",
       "    }\n",
       "\n",
       "    .dataframe thead th {\n",
       "        text-align: right;\n",
       "    }\n",
       "</style>\n",
       "<table border=\"1\" class=\"dataframe\">\n",
       "  <thead>\n",
       "    <tr style=\"text-align: right;\">\n",
       "      <th></th>\n",
       "      <th>resultId</th>\n",
       "      <th>raceId</th>\n",
       "      <th>driverId</th>\n",
       "      <th>constructorId</th>\n",
       "      <th>grid</th>\n",
       "      <th>position</th>\n",
       "      <th>positionText</th>\n",
       "      <th>positionOrder</th>\n",
       "      <th>rank</th>\n",
       "      <th>fastestLapTime</th>\n",
       "      <th>fastestLapSpeed</th>\n",
       "      <th>stop</th>\n",
       "      <th>lap</th>\n",
       "      <th>time</th>\n",
       "      <th>duration</th>\n",
       "      <th>milliseconds</th>\n",
       "    </tr>\n",
       "  </thead>\n",
       "  <tbody>\n",
       "    <tr>\n",
       "      <th>127</th>\n",
       "      <td>20920</td>\n",
       "      <td>847</td>\n",
       "      <td>18</td>\n",
       "      <td>1</td>\n",
       "      <td>7</td>\n",
       "      <td>1.0</td>\n",
       "      <td>1</td>\n",
       "      <td>1</td>\n",
       "      <td>1.0</td>\n",
       "      <td>01:17.0</td>\n",
       "      <td>204.007</td>\n",
       "      <td>6</td>\n",
       "      <td>51</td>\n",
       "      <td>16:36:41</td>\n",
       "      <td>23.741</td>\n",
       "      <td>23741.0</td>\n",
       "    </tr>\n",
       "    <tr>\n",
       "      <th>247</th>\n",
       "      <td>21019</td>\n",
       "      <td>851</td>\n",
       "      <td>1</td>\n",
       "      <td>1</td>\n",
       "      <td>2</td>\n",
       "      <td>4.0</td>\n",
       "      <td>4</td>\n",
       "      <td>4</td>\n",
       "      <td>2.0</td>\n",
       "      <td>01:23.7</td>\n",
       "      <td>188.517</td>\n",
       "      <td>6</td>\n",
       "      <td>56</td>\n",
       "      <td>15:30:48</td>\n",
       "      <td>13.173</td>\n",
       "      <td>13173.0</td>\n",
       "    </tr>\n",
       "    <tr>\n",
       "      <th>2152</th>\n",
       "      <td>22721</td>\n",
       "      <td>936</td>\n",
       "      <td>1</td>\n",
       "      <td>131</td>\n",
       "      <td>1</td>\n",
       "      <td>6.0</td>\n",
       "      <td>6</td>\n",
       "      <td>6</td>\n",
       "      <td>3.0</td>\n",
       "      <td>01:25.7</td>\n",
       "      <td>183.974</td>\n",
       "      <td>6</td>\n",
       "      <td>54</td>\n",
       "      <td>15:31:15</td>\n",
       "      <td>16.579</td>\n",
       "      <td>16579.0</td>\n",
       "    </tr>\n",
       "    <tr>\n",
       "      <th>2192</th>\n",
       "      <td>22729</td>\n",
       "      <td>936</td>\n",
       "      <td>813</td>\n",
       "      <td>208</td>\n",
       "      <td>14</td>\n",
       "      <td>14.0</td>\n",
       "      <td>14</td>\n",
       "      <td>14</td>\n",
       "      <td>9.0</td>\n",
       "      <td>01:27.1</td>\n",
       "      <td>181.012</td>\n",
       "      <td>6</td>\n",
       "      <td>58</td>\n",
       "      <td>15:37:12</td>\n",
       "      <td>16.446</td>\n",
       "      <td>16446.0</td>\n",
       "    </tr>\n",
       "    <tr>\n",
       "      <th>3101</th>\n",
       "      <td>23651</td>\n",
       "      <td>982</td>\n",
       "      <td>839</td>\n",
       "      <td>10</td>\n",
       "      <td>14</td>\n",
       "      <td>10.0</td>\n",
       "      <td>10</td>\n",
       "      <td>10</td>\n",
       "      <td>12.0</td>\n",
       "      <td>01:47.7</td>\n",
       "      <td>169.339</td>\n",
       "      <td>6</td>\n",
       "      <td>38</td>\n",
       "      <td>21:29:07</td>\n",
       "      <td>29.134</td>\n",
       "      <td>29134.0</td>\n",
       "    </tr>\n",
       "    <tr>\n",
       "      <th>3107</th>\n",
       "      <td>23652</td>\n",
       "      <td>982</td>\n",
       "      <td>13</td>\n",
       "      <td>3</td>\n",
       "      <td>17</td>\n",
       "      <td>11.0</td>\n",
       "      <td>11</td>\n",
       "      <td>11</td>\n",
       "      <td>8.0</td>\n",
       "      <td>01:47.1</td>\n",
       "      <td>170.323</td>\n",
       "      <td>6</td>\n",
       "      <td>37</td>\n",
       "      <td>21:27:05</td>\n",
       "      <td>29.671</td>\n",
       "      <td>29671.0</td>\n",
       "    </tr>\n",
       "  </tbody>\n",
       "</table>\n",
       "</div>"
      ],
      "text/plain": [
       "      resultId  raceId  driverId  constructorId  grid  position positionText  \\\n",
       "127      20920     847        18              1     7       1.0            1   \n",
       "247      21019     851         1              1     2       4.0            4   \n",
       "2152     22721     936         1            131     1       6.0            6   \n",
       "2192     22729     936       813            208    14      14.0           14   \n",
       "3101     23651     982       839             10    14      10.0           10   \n",
       "3107     23652     982        13              3    17      11.0           11   \n",
       "\n",
       "      positionOrder  rank fastestLapTime fastestLapSpeed  stop  lap      time  \\\n",
       "127               1   1.0        01:17.0         204.007     6   51  16:36:41   \n",
       "247               4   2.0        01:23.7         188.517     6   56  15:30:48   \n",
       "2152              6   3.0        01:25.7         183.974     6   54  15:31:15   \n",
       "2192             14   9.0        01:27.1         181.012     6   58  15:37:12   \n",
       "3101             10  12.0        01:47.7         169.339     6   38  21:29:07   \n",
       "3107             11   8.0        01:47.1         170.323     6   37  21:27:05   \n",
       "\n",
       "     duration  milliseconds  \n",
       "127    23.741       23741.0  \n",
       "247    13.173       13173.0  \n",
       "2152   16.579       16579.0  \n",
       "2192   16.446       16446.0  \n",
       "3101   29.134       29134.0  \n",
       "3107   29.671       29671.0  "
      ]
     },
     "execution_count": 46,
     "metadata": {},
     "output_type": "execute_result"
    }
   ],
   "source": [
    "max_pitStops"
   ]
  },
  {
   "cell_type": "code",
   "execution_count": 47,
   "id": "3128d09b-2433-4c0f-bf88-951904ffbe8e",
   "metadata": {},
   "outputs": [
    {
     "data": {
      "text/plain": [
       "(np.float64(1.0), np.float64(14.0))"
      ]
     },
     "execution_count": 47,
     "metadata": {},
     "output_type": "execute_result"
    }
   ],
   "source": [
    "#average position\n",
    "max_pitStops.position.min(), max_pitStops.position.max()"
   ]
  },
  {
   "cell_type": "code",
   "execution_count": 48,
   "id": "89759d54-d289-4467-beff-8c1b7a7a53c4",
   "metadata": {},
   "outputs": [],
   "source": [
    "cor = pitStop_result.stop.corr(pitStop_result.position)"
   ]
  },
  {
   "cell_type": "code",
   "execution_count": 49,
   "id": "ff75d0bc-d0b9-4f26-8f69-9dbd628c0e71",
   "metadata": {},
   "outputs": [
    {
     "data": {
      "text/plain": [
       "np.float64(0.04694522535703901)"
      ]
     },
     "execution_count": 49,
     "metadata": {},
     "output_type": "execute_result"
    }
   ],
   "source": [
    "cor"
   ]
  },
  {
   "cell_type": "code",
   "execution_count": 50,
   "id": "6c2a6145-8051-4edc-81b1-22e4da674d06",
   "metadata": {},
   "outputs": [
    {
     "name": "stdout",
     "output_type": "stream",
     "text": [
      "mean_position for minimum pitStop: 6.34\n",
      "mean_position for maximum pitStop: 7.67\n",
      "Standard deviation for minimum pitStop : 4.84\n",
      "Standard deviation for maximum pitStop : 3.91\n"
     ]
    }
   ],
   "source": [
    "max_pitStops_mean_position = max_pitStops.position.mean()\n",
    "min_pitStops_mean_position = min_pitStops.position.mean()\n",
    "std_max_pitStops = max_pitStops.position.std()\n",
    "std_min_pitStops = min_pitStops.position.std()\n",
    "print(f\"mean_position for minimum pitStop: {min_pitStops_mean_position:.2f}\")\n",
    "print(f\"mean_position for maximum pitStop: {max_pitStops_mean_position:.2f}\")\n",
    "print(f\"Standard deviation for minimum pitStop : {std_max_pitStops:.2f}\")\n",
    "print(f\"Standard deviation for maximum pitStop : {std_min_pitStops:.2f}\")\n"
   ]
  },
  {
   "cell_type": "code",
   "execution_count": 51,
   "id": "3543765b-2cc6-4507-b04e-1e96cbc164c9",
   "metadata": {},
   "outputs": [
    {
     "data": {
      "text/plain": [
       "resultId             int64\n",
       "raceId               int64\n",
       "driverId             int64\n",
       "constructorId        int64\n",
       "grid                 int64\n",
       "position           float64\n",
       "positionText        object\n",
       "positionOrder        int64\n",
       "rank               float64\n",
       "fastestLapTime      object\n",
       "fastestLapSpeed     object\n",
       "stop                 int64\n",
       "lap                  int64\n",
       "time                object\n",
       "duration            object\n",
       "milliseconds       float64\n",
       "dtype: object"
      ]
     },
     "execution_count": 51,
     "metadata": {},
     "output_type": "execute_result"
    }
   ],
   "source": [
    "#pitStop_durations\n",
    "pitStop_result.dtypes"
   ]
  },
  {
   "cell_type": "code",
   "execution_count": 52,
   "id": "49207c26-548b-4ca4-97fa-dd90568e1942",
   "metadata": {},
   "outputs": [],
   "source": [
    "correlation_duration_position = pitStop_result.milliseconds.corr(pitStop_result.position)"
   ]
  },
  {
   "cell_type": "code",
   "execution_count": 53,
   "id": "71e77c8a-e65b-4f1a-8a66-d1e91fccb04a",
   "metadata": {},
   "outputs": [
    {
     "data": {
      "text/plain": [
       "np.float64(0.09334511240399038)"
      ]
     },
     "execution_count": 53,
     "metadata": {},
     "output_type": "execute_result"
    }
   ],
   "source": [
    "correlation_duration_position"
   ]
  },
  {
   "cell_type": "markdown",
   "id": "2bc85d14-1c78-4489-bb7e-c71f3e92fec1",
   "metadata": {},
   "source": [
    "Conclusion: There is almost no corelation between no.of pitStop and the position. Also there is no corelation between pitStop duration and the position. \n"
   ]
  },
  {
   "cell_type": "code",
   "execution_count": 54,
   "id": "17ec3c07-a178-4a9c-a7cd-674e49940a90",
   "metadata": {},
   "outputs": [],
   "source": [
    "#Analysing the evolution of pitStop duration within the timeline\n"
   ]
  },
  {
   "cell_type": "code",
   "execution_count": 55,
   "id": "afafa464-7702-4c92-98f1-069c32420607",
   "metadata": {},
   "outputs": [],
   "source": [
    "df_for_timeline = pd.merge( races_to_be_evaluated, pitStops_copy, on = [\"raceId\"], how = \"inner\")"
   ]
  },
  {
   "cell_type": "code",
   "execution_count": 56,
   "id": "650310ce-4ebf-487e-96e7-c71bb0567ff6",
   "metadata": {},
   "outputs": [
    {
     "data": {
      "text/plain": [
       "raceId            int64\n",
       "year              int64\n",
       "round             int64\n",
       "circuitId         int64\n",
       "name             object\n",
       "date             object\n",
       "time_x           object\n",
       "url              object\n",
       "driverId          int64\n",
       "stop              int64\n",
       "lap               int64\n",
       "time_y           object\n",
       "duration         object\n",
       "milliseconds    float64\n",
       "dtype: object"
      ]
     },
     "execution_count": 56,
     "metadata": {},
     "output_type": "execute_result"
    }
   ],
   "source": [
    "df_for_timeline.dtypes"
   ]
  },
  {
   "cell_type": "code",
   "execution_count": 57,
   "id": "20d636b1-5cb0-425f-a90a-760687433a3e",
   "metadata": {},
   "outputs": [
    {
     "data": {
      "text/plain": [
       "(6251, 14)"
      ]
     },
     "execution_count": 57,
     "metadata": {},
     "output_type": "execute_result"
    }
   ],
   "source": [
    "df_for_timeline.shape"
   ]
  },
  {
   "cell_type": "code",
   "execution_count": 58,
   "id": "05963184-f9b1-4f9f-97d2-ca554aaa07e0",
   "metadata": {},
   "outputs": [
    {
     "data": {
      "text/plain": [
       "raceId          6251\n",
       "year            6251\n",
       "round           6251\n",
       "circuitId       6251\n",
       "name            6251\n",
       "date            6251\n",
       "time_x          6251\n",
       "url             6251\n",
       "driverId        6251\n",
       "stop            6251\n",
       "lap             6251\n",
       "time_y          6251\n",
       "duration        6251\n",
       "milliseconds    6251\n",
       "dtype: int64"
      ]
     },
     "execution_count": 58,
     "metadata": {},
     "output_type": "execute_result"
    }
   ],
   "source": [
    "df_for_timeline.count()"
   ]
  },
  {
   "cell_type": "code",
   "execution_count": 59,
   "id": "b3da19de-a060-4f2e-b203-838bdc48532e",
   "metadata": {},
   "outputs": [],
   "source": [
    "df_for_timeline[\"seconds\"] = df_for_timeline[\"milliseconds\"]*0.001"
   ]
  },
  {
   "cell_type": "code",
   "execution_count": 60,
   "id": "e40d3f92-4561-43bf-bfb7-95bce2bd79ad",
   "metadata": {},
   "outputs": [],
   "source": [
    "data_for_mean = df_for_timeline.groupby(\"year\").seconds.mean()"
   ]
  },
  {
   "cell_type": "code",
   "execution_count": 61,
   "id": "c5929d32-655c-452b-b7da-45dbe81d56f4",
   "metadata": {},
   "outputs": [
    {
     "name": "stdout",
     "output_type": "stream",
     "text": [
      "year\n",
      "2011    22.897417\n",
      "2012    22.683408\n",
      "2013    23.073402\n",
      "2014    24.411382\n",
      "2015    24.230911\n",
      "2016    23.903843\n",
      "2017    23.348291\n",
      "Name: seconds, dtype: float64\n"
     ]
    }
   ],
   "source": [
    "print(data_for_mean)"
   ]
  },
  {
   "cell_type": "code",
   "execution_count": 62,
   "id": "562696ef-1893-40b5-8dad-c1e64f8fb972",
   "metadata": {},
   "outputs": [
    {
     "data": {
      "text/plain": [
       "<Axes: title={'center': 'Average of PitStop duration from 2011 to 2017'}, xlabel='year'>"
      ]
     },
     "execution_count": 62,
     "metadata": {},
     "output_type": "execute_result"
    },
    {
     "data": {
      "image/png": "[encoded data removed]",
      "text/plain": [
       "<Figure size 640x480 with 1 Axes>"
      ]
     },
     "metadata": {},
     "output_type": "display_data"
    }
   ],
   "source": [
    "fig2, axes = plt.subplots(1,1)\n",
    "data = data_for_mean\n",
    "data.plot(kind = \"line\" , color = \"k\", alpha = 0.7,\n",
    "         title = \"Average of PitStop duration from 2011 to 2017\")\n"
   ]
  },
  {
   "cell_type": "code",
   "execution_count": 63,
   "id": "ed9c4f6f-aaf0-4c84-bfbd-ac9f6137894a",
   "metadata": {},
   "outputs": [
    {
     "data": {
      "text/plain": [
       "np.float64(13.173)"
      ]
     },
     "execution_count": 63,
     "metadata": {},
     "output_type": "execute_result"
    }
   ],
   "source": [
    "min_duration_sec = pitStop_result.milliseconds.min()*0.001\n",
    "min_duration_sec"
   ]
  },
  {
   "cell_type": "code",
   "execution_count": 64,
   "id": "00ace8ae-69ec-492e-b616-866182e3b2ac",
   "metadata": {},
   "outputs": [
    {
     "data": {
      "text/plain": [
       "np.float64(31.207)"
      ]
     },
     "execution_count": 64,
     "metadata": {},
     "output_type": "execute_result"
    }
   ],
   "source": [
    "max_duration_sec = pitStop_result.milliseconds.max()*0.001\n",
    "max_duration_sec"
   ]
  },
  {
   "cell_type": "code",
   "execution_count": 65,
   "id": "ec1c5adb-3c9b-471d-8be1-63de76e4dea8",
   "metadata": {},
   "outputs": [
    {
     "data": {
      "text/html": [
       "<div>\n",
       "<style scoped>\n",
       "    .dataframe tbody tr th:only-of-type {\n",
       "        vertical-align: middle;\n",
       "    }\n",
       "\n",
       "    .dataframe tbody tr th {\n",
       "        vertical-align: top;\n",
       "    }\n",
       "\n",
       "    .dataframe thead th {\n",
       "        text-align: right;\n",
       "    }\n",
       "</style>\n",
       "<table border=\"1\" class=\"dataframe\">\n",
       "  <thead>\n",
       "    <tr style=\"text-align: right;\">\n",
       "      <th></th>\n",
       "      <th>constructorId</th>\n",
       "      <th>raceId</th>\n",
       "      <th>driverId</th>\n",
       "      <th>position</th>\n",
       "      <th>grid</th>\n",
       "    </tr>\n",
       "  </thead>\n",
       "  <tbody>\n",
       "    <tr>\n",
       "      <th>247</th>\n",
       "      <td>1</td>\n",
       "      <td>851</td>\n",
       "      <td>1</td>\n",
       "      <td>4.0</td>\n",
       "      <td>2</td>\n",
       "    </tr>\n",
       "  </tbody>\n",
       "</table>\n",
       "</div>"
      ],
      "text/plain": [
       "     constructorId  raceId  driverId  position  grid\n",
       "247              1     851         1       4.0     2"
      ]
     },
     "execution_count": 65,
     "metadata": {},
     "output_type": "execute_result"
    }
   ],
   "source": [
    "pitStop_result[[\"constructorId\", \"raceId\", \"driverId\", \"position\", \"grid\"]][pitStop_result.milliseconds == pitStop_result.milliseconds.min()]"
   ]
  },
  {
   "cell_type": "code",
   "execution_count": 66,
   "id": "b76d328c-e619-407d-9650-9fd5ac53dee2",
   "metadata": {},
   "outputs": [
    {
     "name": "stdout",
     "output_type": "stream",
     "text": [
      "0    McLaren\n",
      "Name: name, dtype: object\n",
      "\n",
      "  forename   surname\n",
      "0    Lewis  Hamilton\n",
      "\n",
      "     year                  name\n",
      "849  2011  Hungarian Grand Prix\n"
     ]
    }
   ],
   "source": [
    "constructor = constructors[constructors.constructorId == 1].name\n",
    "race = races[races.raceId == 851][[\"year\",\"name\"]]\n",
    "driver = drivers[drivers.driverId == 1][[\"forename\",\"surname\"]]\n",
    "print(constructor)\n",
    "print()\n",
    "print(driver)\n",
    "print()\n",
    "print(race)"
   ]
  },
  {
   "cell_type": "code",
   "execution_count": 67,
   "id": "fac3498e-a2dc-4d80-90d7-f0d7897e3489",
   "metadata": {},
   "outputs": [
    {
     "data": {
      "text/html": [
       "<div>\n",
       "<style scoped>\n",
       "    .dataframe tbody tr th:only-of-type {\n",
       "        vertical-align: middle;\n",
       "    }\n",
       "\n",
       "    .dataframe tbody tr th {\n",
       "        vertical-align: top;\n",
       "    }\n",
       "\n",
       "    .dataframe thead th {\n",
       "        text-align: right;\n",
       "    }\n",
       "</style>\n",
       "<table border=\"1\" class=\"dataframe\">\n",
       "  <thead>\n",
       "    <tr style=\"text-align: right;\">\n",
       "      <th></th>\n",
       "      <th>constructorId</th>\n",
       "      <th>raceId</th>\n",
       "      <th>driverId</th>\n",
       "      <th>position</th>\n",
       "      <th>grid</th>\n",
       "    </tr>\n",
       "  </thead>\n",
       "  <tbody>\n",
       "    <tr>\n",
       "      <th>2234</th>\n",
       "      <td>5</td>\n",
       "      <td>939</td>\n",
       "      <td>830</td>\n",
       "      <td>8.0</td>\n",
       "      <td>8</td>\n",
       "    </tr>\n",
       "  </tbody>\n",
       "</table>\n",
       "</div>"
      ],
      "text/plain": [
       "      constructorId  raceId  driverId  position  grid\n",
       "2234              5     939       830       8.0     8"
      ]
     },
     "execution_count": 67,
     "metadata": {},
     "output_type": "execute_result"
    }
   ],
   "source": [
    "pitStop_result[[\"constructorId\", \"raceId\", \"driverId\", \"position\", \"grid\"]][pitStop_result.milliseconds == pitStop_result.milliseconds.max()]"
   ]
  },
  {
   "cell_type": "code",
   "execution_count": 68,
   "id": "f3512e45-4b91-4056-94c3-dbfca11255a8",
   "metadata": {},
   "outputs": [
    {
     "name": "stdout",
     "output_type": "stream",
     "text": [
      "4    Toro Rosso\n",
      "Name: name, dtype: object\n",
      "\n",
      "    forename     surname\n",
      "829      Max  Verstappen\n",
      "\n",
      "     year                  name\n",
      "928  2015  Singapore Grand Prix\n"
     ]
    }
   ],
   "source": [
    "constructor = constructors[constructors.constructorId == 5].name\n",
    "race = races[races.raceId == 939][[\"year\",\"name\"]]\n",
    "driver = drivers[drivers.driverId == 830][[\"forename\",\"surname\"]]\n",
    "print(constructor)\n",
    "print()\n",
    "print(driver)\n",
    "print()\n",
    "print(race)"
   ]
  },
  {
   "cell_type": "markdown",
   "id": "6eb0ade8-4f85-42d1-88a3-73a6cdbbedf8",
   "metadata": {},
   "source": [
    "Conclusion: From 2011 to 2017, Toro Rosso had the most pitStop duration which was 31.207 seconds in 2015 in Singapore Grand Prix.  He started at 8 and  finished 8. McLaren had the minimum pitStop duration which was 13.173 with Lewis Hamilton in 2011 ( Hungarian Grand Prix). He started at 2 but suprisingly finished 4. "
   ]
  },
  {
   "cell_type": "markdown",
   "id": "16dad636-8579-4b56-99c5-b4a0d5aee169",
   "metadata": {},
   "source": [
    "**Each Consctructo PitStop duration along the years**"
   ]
  },
  {
   "cell_type": "code",
   "execution_count": 69,
   "id": "8bb0b593-16d5-4454-9cb8-855f04d55b96",
   "metadata": {},
   "outputs": [
    {
     "data": {
      "text/html": [
       "<div>\n",
       "<style scoped>\n",
       "    .dataframe tbody tr th:only-of-type {\n",
       "        vertical-align: middle;\n",
       "    }\n",
       "\n",
       "    .dataframe tbody tr th {\n",
       "        vertical-align: top;\n",
       "    }\n",
       "\n",
       "    .dataframe thead th {\n",
       "        text-align: right;\n",
       "    }\n",
       "</style>\n",
       "<table border=\"1\" class=\"dataframe\">\n",
       "  <thead>\n",
       "    <tr style=\"text-align: right;\">\n",
       "      <th></th>\n",
       "      <th>constructorId</th>\n",
       "      <th>constructorRef</th>\n",
       "      <th>name</th>\n",
       "      <th>nationality</th>\n",
       "      <th>url</th>\n",
       "      <th>Unnamed: 5</th>\n",
       "    </tr>\n",
       "  </thead>\n",
       "  <tbody>\n",
       "    <tr>\n",
       "      <th>102</th>\n",
       "      <td>104</td>\n",
       "      <td>behra-porsche</td>\n",
       "      <td>Behra-Porsche</td>\n",
       "      <td>Italian</td>\n",
       "      <td>http://en.wikipedia.org/wiki/Behra-Porsche</td>\n",
       "      <td>NaN</td>\n",
       "    </tr>\n",
       "    <tr>\n",
       "      <th>37</th>\n",
       "      <td>38</td>\n",
       "      <td>moda</td>\n",
       "      <td>Andrea Moda</td>\n",
       "      <td>Italian</td>\n",
       "      <td>http://en.wikipedia.org/wiki/Andrea_Moda_Formula</td>\n",
       "      <td>NaN</td>\n",
       "    </tr>\n",
       "    <tr>\n",
       "      <th>86</th>\n",
       "      <td>88</td>\n",
       "      <td>eagle</td>\n",
       "      <td>Eagle</td>\n",
       "      <td>American</td>\n",
       "      <td>http://en.wikipedia.org/wiki/Anglo_American_Ra...</td>\n",
       "      <td>NaN</td>\n",
       "    </tr>\n",
       "    <tr>\n",
       "      <th>46</th>\n",
       "      <td>48</td>\n",
       "      <td>rial</td>\n",
       "      <td>Rial</td>\n",
       "      <td>German</td>\n",
       "      <td>http://en.wikipedia.org/wiki/Rial_%28racing_te...</td>\n",
       "      <td>NaN</td>\n",
       "    </tr>\n",
       "    <tr>\n",
       "      <th>186</th>\n",
       "      <td>189</td>\n",
       "      <td>eagle-climax</td>\n",
       "      <td>Eagle-Climax</td>\n",
       "      <td>American</td>\n",
       "      <td>http://en.wikipedia.org/wiki/Anglo_American_Ra...</td>\n",
       "      <td>NaN</td>\n",
       "    </tr>\n",
       "  </tbody>\n",
       "</table>\n",
       "</div>"
      ],
      "text/plain": [
       "     constructorId constructorRef           name nationality  \\\n",
       "102            104  behra-porsche  Behra-Porsche     Italian   \n",
       "37              38           moda    Andrea Moda     Italian   \n",
       "86              88          eagle          Eagle    American   \n",
       "46              48           rial           Rial      German   \n",
       "186            189   eagle-climax   Eagle-Climax    American   \n",
       "\n",
       "                                                   url  Unnamed: 5  \n",
       "102         http://en.wikipedia.org/wiki/Behra-Porsche         NaN  \n",
       "37    http://en.wikipedia.org/wiki/Andrea_Moda_Formula         NaN  \n",
       "86   http://en.wikipedia.org/wiki/Anglo_American_Ra...         NaN  \n",
       "46   http://en.wikipedia.org/wiki/Rial_%28racing_te...         NaN  \n",
       "186  http://en.wikipedia.org/wiki/Anglo_American_Ra...         NaN  "
      ]
     },
     "execution_count": 69,
     "metadata": {},
     "output_type": "execute_result"
    }
   ],
   "source": [
    "constructors.sample(5)"
   ]
  },
  {
   "cell_type": "code",
   "execution_count": 70,
   "id": "a8f61432-cbe9-45d4-9f25-7cb8ccb7e046",
   "metadata": {},
   "outputs": [
    {
     "data": {
      "text/plain": [
       "(208, 6)"
      ]
     },
     "execution_count": 70,
     "metadata": {},
     "output_type": "execute_result"
    }
   ],
   "source": [
    "constructors.shape"
   ]
  },
  {
   "cell_type": "code",
   "execution_count": 71,
   "id": "21c49e1e-dfc4-4ce9-aec4-50876d5992c6",
   "metadata": {},
   "outputs": [
    {
     "data": {
      "text/plain": [
       "constructorId     208\n",
       "constructorRef    208\n",
       "name              208\n",
       "nationality       208\n",
       "url               208\n",
       "Unnamed: 5          0\n",
       "dtype: int64"
      ]
     },
     "execution_count": 71,
     "metadata": {},
     "output_type": "execute_result"
    }
   ],
   "source": [
    "constructors.count()"
   ]
  },
  {
   "cell_type": "code",
   "execution_count": 72,
   "id": "85c2e6d3-2366-493f-b081-e6983ad630ab",
   "metadata": {},
   "outputs": [],
   "source": [
    "names = list(constructors.name.unique())"
   ]
  },
  {
   "cell_type": "code",
   "execution_count": 114,
   "id": "1bb1ddaf-809b-448d-9781-c7cdbb154e7b",
   "metadata": {},
   "outputs": [
    {
     "data": {
      "text/plain": [
       "np.float64(22792.555873925503)"
      ]
     },
     "execution_count": 114,
     "metadata": {},
     "output_type": "execute_result"
    }
   ],
   "source": [
    "pitStop_result[pitStop_result.constructorId == 1].milliseconds.mean()"
   ]
  },
  {
   "cell_type": "code",
   "execution_count": null,
   "id": "b6dc27de-2ef0-4bf7-b8ed-548314bb1b38",
   "metadata": {},
   "outputs": [],
   "source": []
  },
  {
   "cell_type": "code",
   "execution_count": 73,
   "id": "cb0169f0-b817-4e47-80be-e48570194910",
   "metadata": {},
   "outputs": [
    {
     "data": {
      "text/plain": [
       "['Zakspeed',\n",
       " 'Wolf',\n",
       " 'Williams',\n",
       " 'Wetteroth',\n",
       " 'Watson',\n",
       " 'Virgin',\n",
       " 'Veritas',\n",
       " 'Vanwall',\n",
       " 'Tyrrell',\n",
       " 'Turner',\n",
       " 'Trojan',\n",
       " 'Trevis',\n",
       " 'Toyota',\n",
       " 'Toro Rosso',\n",
       " 'Toleman',\n",
       " 'Token',\n",
       " 'Theodore',\n",
       " 'Tecno',\n",
       " 'Tec-Mec',\n",
       " 'Team Lotus',\n",
       " 'Talbot-Lago',\n",
       " 'Sutton',\n",
       " 'Surtees',\n",
       " 'Super Aguri',\n",
       " 'Stewart',\n",
       " 'Stevens',\n",
       " 'Stebro',\n",
       " 'Spyker MF1',\n",
       " 'Spyker',\n",
       " 'Spirit',\n",
       " 'Snowberger',\n",
       " 'Simtek',\n",
       " 'Simca',\n",
       " 'Sherman',\n",
       " 'Shannon',\n",
       " 'Shadow-Matra',\n",
       " 'Shadow-Ford',\n",
       " 'Shadow',\n",
       " 'Scirocco',\n",
       " 'Schroeder',\n",
       " 'Scarab',\n",
       " 'Sauber',\n",
       " 'Rial',\n",
       " 'Renault',\n",
       " 'Red Bull',\n",
       " 'Rebaque',\n",
       " 'Rae',\n",
       " 'RE',\n",
       " 'RAM',\n",
       " 'Protos',\n",
       " 'Prost',\n",
       " 'Porsche',\n",
       " 'Politoys',\n",
       " 'Phillips',\n",
       " 'Penske',\n",
       " 'Pawl',\n",
       " 'Parnelli',\n",
       " 'Pankratz',\n",
       " 'Pacific',\n",
       " 'Osella',\n",
       " 'Onyx',\n",
       " 'Olson',\n",
       " 'OSCA',\n",
       " 'Nichels',\n",
       " 'Moore',\n",
       " 'Minardi',\n",
       " 'Milano',\n",
       " 'Meskowski',\n",
       " 'Merzario',\n",
       " 'Mercedes',\n",
       " 'McLaren-Serenissima',\n",
       " 'McLaren-Ford',\n",
       " 'McLaren-BRM',\n",
       " 'McLaren-Alfa Romeo',\n",
       " 'McLaren',\n",
       " 'McGuire',\n",
       " 'Matra-Ford',\n",
       " 'Matra',\n",
       " 'Maserati',\n",
       " 'Marussia',\n",
       " 'Martini',\n",
       " 'Marchese',\n",
       " 'March-Ford',\n",
       " 'March-Alfa Romeo',\n",
       " 'March',\n",
       " 'Manor Marussia',\n",
       " 'Maki',\n",
       " 'MF1',\n",
       " 'MBM',\n",
       " 'Lyncar',\n",
       " 'Lotus-Pratt &amp; Whitney',\n",
       " 'Lotus-Maserati',\n",
       " 'Lotus-Ford',\n",
       " 'Lotus-Climax',\n",
       " 'Lotus-Borgward',\n",
       " 'Lotus-BRM',\n",
       " 'Lotus F1',\n",
       " 'Lotus',\n",
       " 'Lola',\n",
       " 'Ligier',\n",
       " 'Life',\n",
       " 'Leyton House',\n",
       " 'Lesovsky',\n",
       " 'Larrousse',\n",
       " 'Langley',\n",
       " 'Lancia',\n",
       " 'Lambo',\n",
       " 'LEC',\n",
       " 'LDS-Climax',\n",
       " 'LDS-Alfa Romeo',\n",
       " 'LDS',\n",
       " 'Kuzma',\n",
       " 'Kurtis Kraft',\n",
       " 'Kojima',\n",
       " 'Klenk',\n",
       " 'Kauhsen',\n",
       " 'Jordan',\n",
       " 'Jaguar',\n",
       " 'JBW',\n",
       " 'Iso Marlboro',\n",
       " 'Honda',\n",
       " 'Hesketh',\n",
       " 'Hall',\n",
       " 'Haas F1 Team',\n",
       " 'HWM',\n",
       " 'HRT',\n",
       " 'Gordini',\n",
       " 'Gilby',\n",
       " 'Fry',\n",
       " 'Frazer Nash',\n",
       " 'Forti',\n",
       " 'Force India',\n",
       " 'Footwork',\n",
       " 'Fondmetal',\n",
       " 'Fittipaldi',\n",
       " 'Ferrari',\n",
       " 'Ferguson',\n",
       " 'Ewing',\n",
       " 'Euro Brun',\n",
       " 'Epperly',\n",
       " 'Ensign',\n",
       " 'Emeryson',\n",
       " 'Embassy Hill',\n",
       " 'Elder',\n",
       " 'Eagle-Weslake',\n",
       " 'Eagle-Climax',\n",
       " 'Eagle',\n",
       " 'ERA',\n",
       " 'ENB',\n",
       " 'EMW',\n",
       " 'Dunn',\n",
       " 'Derrington',\n",
       " 'Del Roy',\n",
       " 'Deidt',\n",
       " 'De Tomaso-Osca',\n",
       " 'De Tomaso-Ferrari',\n",
       " 'De Tomaso-Alfa Romeo',\n",
       " 'De Tomaso',\n",
       " 'Dallara',\n",
       " 'Cooper-OSCA',\n",
       " 'Cooper-Maserati',\n",
       " 'Cooper-Ford',\n",
       " 'Cooper-Ferrari',\n",
       " 'Cooper-Climax',\n",
       " 'Cooper-Castellotti',\n",
       " 'Cooper-Borgward',\n",
       " 'Cooper-BRM',\n",
       " 'Cooper-Alfa Romeo',\n",
       " 'Cooper-ATS',\n",
       " 'Cooper',\n",
       " 'Connew',\n",
       " 'Connaught',\n",
       " 'Coloni',\n",
       " 'Cisitalia',\n",
       " 'Christensen',\n",
       " 'Caterham',\n",
       " 'Bugatti',\n",
       " 'Bromme',\n",
       " 'Brawn',\n",
       " 'Brabham-Repco',\n",
       " 'Brabham-Ford',\n",
       " 'Brabham-Climax',\n",
       " 'Brabham-BRM',\n",
       " 'Brabham-Alfa Romeo',\n",
       " 'Brabham',\n",
       " 'Boro',\n",
       " 'Benetton',\n",
       " 'Bellasi',\n",
       " 'Behra-Porsche',\n",
       " 'BRP',\n",
       " 'BRM-Ford',\n",
       " 'BRM',\n",
       " 'BMW Sauber',\n",
       " 'BMW',\n",
       " 'BAR',\n",
       " 'Aston Martin',\n",
       " 'Aston Butterworth',\n",
       " 'Arzani-Volpini',\n",
       " 'Arrows',\n",
       " 'Apollon',\n",
       " 'Andrea Moda',\n",
       " 'Amon',\n",
       " 'Alta',\n",
       " 'Alfa Romeo',\n",
       " 'Adams',\n",
       " 'ATS',\n",
       " 'AGS',\n",
       " 'AFM']"
      ]
     },
     "execution_count": 73,
     "metadata": {},
     "output_type": "execute_result"
    }
   ],
   "source": [
    "names.sort(reverse = True)\n",
    "names"
   ]
  },
  {
   "cell_type": "code",
   "execution_count": 74,
   "id": "61129f76-2563-41ea-988f-c1abc0fe9b65",
   "metadata": {},
   "outputs": [],
   "source": [
    "#Ferrrari, Mclaren, Mercedes, Red Bull \n",
    "def find_id(name):\n",
    "    return constructors[constructors.name == name].constructorId.values[0]\n",
    "ferr_id, mclaren_id, mercedes_id, redbull_id = find_id(\"Ferrari\"), find_id(\"McLaren\"), find_id(\"Mercedes\"),find_id(\"Red Bull\")\n",
    "teams_ids = [ferr_id, mclaren_id, mercedes_id, redbull_id]"
   ]
  },
  {
   "cell_type": "code",
   "execution_count": 75,
   "id": "4b1df8e3-a26a-4cf0-9cae-657902e59af9",
   "metadata": {},
   "outputs": [],
   "source": [
    "df_for_anlys = pitStop_result[[\"milliseconds\",\"constructorId\",\"raceId\"]]"
   ]
  },
  {
   "cell_type": "code",
   "execution_count": 122,
   "id": "3ce3ea76-7d81-4903-b176-f891e18c25c5",
   "metadata": {},
   "outputs": [],
   "source": [
    "gr_best_mean = pitStop_result.groupby([\"constructorId\"], as_index = False)"
   ]
  },
  {
   "cell_type": "code",
   "execution_count": 123,
   "id": "73f87e1d-af23-411d-bb60-0698858f1ffa",
   "metadata": {},
   "outputs": [
    {
     "data": {
      "text/plain": [
       "constructorId      210.000000\n",
       "milliseconds     25934.541667\n",
       "dtype: float64"
      ]
     },
     "execution_count": 123,
     "metadata": {},
     "output_type": "execute_result"
    }
   ],
   "source": [
    "gr_best_mean.milliseconds.mean().max()"
   ]
  },
  {
   "cell_type": "code",
   "execution_count": 126,
   "id": "c3676f35-583e-4cc6-9d0a-fc6e628216f7",
   "metadata": {},
   "outputs": [],
   "source": [
    "Temp = gr_best_mean.milliseconds.mean()"
   ]
  },
  {
   "cell_type": "code",
   "execution_count": 127,
   "id": "4cbe54be-4edf-4366-a0b4-a9e73ec05a36",
   "metadata": {},
   "outputs": [
    {
     "data": {
      "text/plain": [
       "(16, 2)"
      ]
     },
     "execution_count": 127,
     "metadata": {},
     "output_type": "execute_result"
    }
   ],
   "source": [
    "Temp.shape"
   ]
  },
  {
   "cell_type": "code",
   "execution_count": 130,
   "id": "ac45dfa1-7f25-46d9-b285-41d12f85b886",
   "metadata": {},
   "outputs": [
    {
     "data": {
      "text/html": [
       "<div>\n",
       "<style scoped>\n",
       "    .dataframe tbody tr th:only-of-type {\n",
       "        vertical-align: middle;\n",
       "    }\n",
       "\n",
       "    .dataframe tbody tr th {\n",
       "        vertical-align: top;\n",
       "    }\n",
       "\n",
       "    .dataframe thead th {\n",
       "        text-align: right;\n",
       "    }\n",
       "</style>\n",
       "<table border=\"1\" class=\"dataframe\">\n",
       "  <thead>\n",
       "    <tr style=\"text-align: right;\">\n",
       "      <th></th>\n",
       "      <th>constructorId</th>\n",
       "      <th>milliseconds</th>\n",
       "    </tr>\n",
       "  </thead>\n",
       "  <tbody>\n",
       "    <tr>\n",
       "      <th>11</th>\n",
       "      <td>206</td>\n",
       "      <td>25934.541667</td>\n",
       "    </tr>\n",
       "  </tbody>\n",
       "</table>\n",
       "</div>"
      ],
      "text/plain": [
       "    constructorId  milliseconds\n",
       "11            206  25934.541667"
      ]
     },
     "execution_count": 130,
     "metadata": {},
     "output_type": "execute_result"
    }
   ],
   "source": [
    "Temp[Temp.milliseconds == Temp.milliseconds.max()]"
   ]
  },
  {
   "cell_type": "code",
   "execution_count": 131,
   "id": "b1d29594-da9a-45cb-80f7-1ec2aa54ab7e",
   "metadata": {},
   "outputs": [
    {
     "data": {
      "text/html": [
       "<div>\n",
       "<style scoped>\n",
       "    .dataframe tbody tr th:only-of-type {\n",
       "        vertical-align: middle;\n",
       "    }\n",
       "\n",
       "    .dataframe tbody tr th {\n",
       "        vertical-align: top;\n",
       "    }\n",
       "\n",
       "    .dataframe thead th {\n",
       "        text-align: right;\n",
       "    }\n",
       "</style>\n",
       "<table border=\"1\" class=\"dataframe\">\n",
       "  <thead>\n",
       "    <tr style=\"text-align: right;\">\n",
       "      <th></th>\n",
       "      <th>constructorId</th>\n",
       "      <th>milliseconds</th>\n",
       "    </tr>\n",
       "  </thead>\n",
       "  <tbody>\n",
       "    <tr>\n",
       "      <th>10</th>\n",
       "      <td>205</td>\n",
       "      <td>21914.666667</td>\n",
       "    </tr>\n",
       "  </tbody>\n",
       "</table>\n",
       "</div>"
      ],
      "text/plain": [
       "    constructorId  milliseconds\n",
       "10            205  21914.666667"
      ]
     },
     "execution_count": 131,
     "metadata": {},
     "output_type": "execute_result"
    }
   ],
   "source": [
    "Temp[Temp.milliseconds == Temp.milliseconds.min()]"
   ]
  },
  {
   "cell_type": "code",
   "execution_count": 124,
   "id": "562534cc-14be-410c-ba8a-dc6ab4f75ddf",
   "metadata": {},
   "outputs": [
    {
     "data": {
      "text/plain": [
       "constructorId        1.000000\n",
       "milliseconds     21914.666667\n",
       "dtype: float64"
      ]
     },
     "execution_count": 124,
     "metadata": {},
     "output_type": "execute_result"
    }
   ],
   "source": [
    "gr_best_mean.milliseconds.mean().min()"
   ]
  },
  {
   "cell_type": "code",
   "execution_count": 132,
   "id": "d173b3dc-3d21-4b77-9707-f57c69cae4af",
   "metadata": {},
   "outputs": [
    {
     "data": {
      "text/html": [
       "<div>\n",
       "<style scoped>\n",
       "    .dataframe tbody tr th:only-of-type {\n",
       "        vertical-align: middle;\n",
       "    }\n",
       "\n",
       "    .dataframe tbody tr th {\n",
       "        vertical-align: top;\n",
       "    }\n",
       "\n",
       "    .dataframe thead th {\n",
       "        text-align: right;\n",
       "    }\n",
       "</style>\n",
       "<table border=\"1\" class=\"dataframe\">\n",
       "  <thead>\n",
       "    <tr style=\"text-align: right;\">\n",
       "      <th></th>\n",
       "      <th>constructorId</th>\n",
       "      <th>constructorRef</th>\n",
       "      <th>name</th>\n",
       "      <th>nationality</th>\n",
       "      <th>url</th>\n",
       "      <th>Unnamed: 5</th>\n",
       "    </tr>\n",
       "  </thead>\n",
       "  <tbody>\n",
       "    <tr>\n",
       "      <th>202</th>\n",
       "      <td>205</td>\n",
       "      <td>lotus_racing</td>\n",
       "      <td>Lotus</td>\n",
       "      <td>Malaysian</td>\n",
       "      <td>http://en.wikipedia.org/wiki/Lotus_Racing</td>\n",
       "      <td>NaN</td>\n",
       "    </tr>\n",
       "  </tbody>\n",
       "</table>\n",
       "</div>"
      ],
      "text/plain": [
       "     constructorId constructorRef   name nationality  \\\n",
       "202            205   lotus_racing  Lotus   Malaysian   \n",
       "\n",
       "                                           url  Unnamed: 5  \n",
       "202  http://en.wikipedia.org/wiki/Lotus_Racing         NaN  "
      ]
     },
     "execution_count": 132,
     "metadata": {},
     "output_type": "execute_result"
    }
   ],
   "source": [
    "constructors[constructors.constructorId == 205]"
   ]
  },
  {
   "cell_type": "code",
   "execution_count": 133,
   "id": "42b56c58-23dd-4066-a469-41f3f37f0fa0",
   "metadata": {},
   "outputs": [
    {
     "data": {
      "text/html": [
       "<div>\n",
       "<style scoped>\n",
       "    .dataframe tbody tr th:only-of-type {\n",
       "        vertical-align: middle;\n",
       "    }\n",
       "\n",
       "    .dataframe tbody tr th {\n",
       "        vertical-align: top;\n",
       "    }\n",
       "\n",
       "    .dataframe thead th {\n",
       "        text-align: right;\n",
       "    }\n",
       "</style>\n",
       "<table border=\"1\" class=\"dataframe\">\n",
       "  <thead>\n",
       "    <tr style=\"text-align: right;\">\n",
       "      <th></th>\n",
       "      <th>constructorId</th>\n",
       "      <th>constructorRef</th>\n",
       "      <th>name</th>\n",
       "      <th>nationality</th>\n",
       "      <th>url</th>\n",
       "      <th>Unnamed: 5</th>\n",
       "    </tr>\n",
       "  </thead>\n",
       "  <tbody>\n",
       "    <tr>\n",
       "      <th>203</th>\n",
       "      <td>206</td>\n",
       "      <td>marussia</td>\n",
       "      <td>Marussia</td>\n",
       "      <td>Russian</td>\n",
       "      <td>http://en.wikipedia.org/wiki/Marussia_F1</td>\n",
       "      <td>NaN</td>\n",
       "    </tr>\n",
       "  </tbody>\n",
       "</table>\n",
       "</div>"
      ],
      "text/plain": [
       "     constructorId constructorRef      name nationality  \\\n",
       "203            206       marussia  Marussia     Russian   \n",
       "\n",
       "                                          url  Unnamed: 5  \n",
       "203  http://en.wikipedia.org/wiki/Marussia_F1         NaN  "
      ]
     },
     "execution_count": 133,
     "metadata": {},
     "output_type": "execute_result"
    }
   ],
   "source": [
    "constructors[constructors.constructorId == 206]"
   ]
  },
  {
   "cell_type": "markdown",
   "id": "73ff721a-a31e-406e-98bd-46e8494210e0",
   "metadata": {},
   "source": [
    "**RESULT** : Throughout the year of 2011 and 2017, Marussia has had the highest overall pitStop duration in F1 with the mean of 25934.542 milliseconds. While Lotus Racing holds the minimum overall pitStop duration in F1 with the mean of 21914.67 milliseconds"
   ]
  },
  {
   "cell_type": "code",
   "execution_count": 76,
   "id": "e35312ac-cc4a-4639-9e1e-07da1f66cfa2",
   "metadata": {},
   "outputs": [],
   "source": [
    "\n",
    "df_for_anlys = df_for_anlys[df_for_anlys.constructorId.isin(teams_ids)]\n",
    "df_for_anlys = pd.merge(df_for_anlys, constructors, on = [\"constructorId\"], how = \"inner\")\n"
   ]
  },
  {
   "cell_type": "code",
   "execution_count": 77,
   "id": "98307e17-b0e9-4326-b72b-3207396e46ff",
   "metadata": {},
   "outputs": [
    {
     "data": {
      "text/plain": [
       "(1843, 8)"
      ]
     },
     "execution_count": 77,
     "metadata": {},
     "output_type": "execute_result"
    }
   ],
   "source": [
    "df_for_anlys.shape"
   ]
  },
  {
   "cell_type": "code",
   "execution_count": 78,
   "id": "4eda518d-a757-461a-b30f-5d814b09ac27",
   "metadata": {},
   "outputs": [
    {
     "data": {
      "text/plain": [
       "Index(['milliseconds', 'constructorId', 'raceId', 'constructorRef', 'name',\n",
       "       'nationality', 'url', 'Unnamed: 5'],\n",
       "      dtype='object')"
      ]
     },
     "execution_count": 78,
     "metadata": {},
     "output_type": "execute_result"
    }
   ],
   "source": [
    "df_for_anlys.columns"
   ]
  },
  {
   "cell_type": "code",
   "execution_count": null,
   "id": "50853dab-5246-411f-99d0-1c9083064b2d",
   "metadata": {},
   "outputs": [],
   "source": []
  },
  {
   "cell_type": "code",
   "execution_count": 79,
   "id": "94af5324-fe51-42a7-9491-8c8627bb99b3",
   "metadata": {},
   "outputs": [],
   "source": [
    "df_for_anlys = df_for_anlys.drop([\"nationality\", \"constructorRef\", \"url\",\"Unnamed: 5\"], axis = 1)"
   ]
  },
  {
   "cell_type": "code",
   "execution_count": 80,
   "id": "99570315-690c-4ce4-a0cc-f08ee644b0a6",
   "metadata": {},
   "outputs": [],
   "source": [
    "group_constructor = df_for_anlys.groupby([\"name\"])"
   ]
  },
  {
   "cell_type": "code",
   "execution_count": 81,
   "id": "91082298-9b85-4b35-b427-8bdd28398e21",
   "metadata": {},
   "outputs": [
    {
     "data": {
      "text/plain": [
       "name\n",
       "Ferrari     23084.539526\n",
       "McLaren     22792.555874\n",
       "Mercedes    23082.461698\n",
       "Red Bull    22774.871287\n",
       "Name: milliseconds, dtype: float64"
      ]
     },
     "execution_count": 81,
     "metadata": {},
     "output_type": "execute_result"
    }
   ],
   "source": [
    "group_constructor.milliseconds.mean()"
   ]
  },
  {
   "cell_type": "code",
   "execution_count": 82,
   "id": "a749a9d3-bbbe-4ea0-8808-189e859cc2b6",
   "metadata": {},
   "outputs": [
    {
     "data": {
      "text/plain": [
       "milliseconds     1843\n",
       "constructorId    1843\n",
       "raceId           1843\n",
       "name             1843\n",
       "dtype: int64"
      ]
     },
     "execution_count": 82,
     "metadata": {},
     "output_type": "execute_result"
    }
   ],
   "source": [
    "df_for_anlys.count()"
   ]
  },
  {
   "cell_type": "code",
   "execution_count": 83,
   "id": "2e140ed3-d372-43dc-be6f-f124f2b2e852",
   "metadata": {},
   "outputs": [
    {
     "data": {
      "text/html": [
       "<div>\n",
       "<style scoped>\n",
       "    .dataframe tbody tr th:only-of-type {\n",
       "        vertical-align: middle;\n",
       "    }\n",
       "\n",
       "    .dataframe tbody tr th {\n",
       "        vertical-align: top;\n",
       "    }\n",
       "\n",
       "    .dataframe thead th {\n",
       "        text-align: right;\n",
       "    }\n",
       "</style>\n",
       "<table border=\"1\" class=\"dataframe\">\n",
       "  <thead>\n",
       "    <tr style=\"text-align: right;\">\n",
       "      <th></th>\n",
       "      <th>milliseconds</th>\n",
       "      <th>constructorId</th>\n",
       "      <th>raceId</th>\n",
       "      <th>name</th>\n",
       "    </tr>\n",
       "  </thead>\n",
       "  <tbody>\n",
       "    <tr>\n",
       "      <th>425</th>\n",
       "      <td>19888.0</td>\n",
       "      <td>1</td>\n",
       "      <td>864</td>\n",
       "      <td>McLaren</td>\n",
       "    </tr>\n",
       "    <tr>\n",
       "      <th>207</th>\n",
       "      <td>26046.0</td>\n",
       "      <td>1</td>\n",
       "      <td>852</td>\n",
       "      <td>McLaren</td>\n",
       "    </tr>\n",
       "    <tr>\n",
       "      <th>1160</th>\n",
       "      <td>22295.0</td>\n",
       "      <td>131</td>\n",
       "      <td>926</td>\n",
       "      <td>Mercedes</td>\n",
       "    </tr>\n",
       "    <tr>\n",
       "      <th>1083</th>\n",
       "      <td>30194.0</td>\n",
       "      <td>6</td>\n",
       "      <td>913</td>\n",
       "      <td>Ferrari</td>\n",
       "    </tr>\n",
       "    <tr>\n",
       "      <th>1506</th>\n",
       "      <td>23340.0</td>\n",
       "      <td>131</td>\n",
       "      <td>960</td>\n",
       "      <td>Mercedes</td>\n",
       "    </tr>\n",
       "  </tbody>\n",
       "</table>\n",
       "</div>"
      ],
      "text/plain": [
       "      milliseconds  constructorId  raceId      name\n",
       "425        19888.0              1     864   McLaren\n",
       "207        26046.0              1     852   McLaren\n",
       "1160       22295.0            131     926  Mercedes\n",
       "1083       30194.0              6     913   Ferrari\n",
       "1506       23340.0            131     960  Mercedes"
      ]
     },
     "execution_count": 83,
     "metadata": {},
     "output_type": "execute_result"
    }
   ],
   "source": [
    "df_for_anlys.sample(5)"
   ]
  },
  {
   "cell_type": "code",
   "execution_count": 84,
   "id": "b7737bd1-2eec-476a-ae63-d475cb0f5432",
   "metadata": {},
   "outputs": [],
   "source": [
    "df_for_anlys[\"seconds\"] = df_for_anlys.milliseconds*0.001"
   ]
  },
  {
   "cell_type": "code",
   "execution_count": 85,
   "id": "59a1a6c3-043c-41ab-a808-da9ca466abab",
   "metadata": {},
   "outputs": [],
   "source": [
    "df_for_anlys =  pd.merge(df_for_anlys, races, on = [\"raceId\"], how = \"inner\")"
   ]
  },
  {
   "cell_type": "code",
   "execution_count": 87,
   "id": "ff9644b9-a393-4d6e-8faa-c36ee71b076b",
   "metadata": {},
   "outputs": [
    {
     "data": {
      "text/plain": [
       "Index(['milliseconds', 'constructorId', 'raceId', 'name_x', 'seconds', 'year',\n",
       "       'round', 'circuitId', 'name_y', 'date', 'time', 'url'],\n",
       "      dtype='object')"
      ]
     },
     "execution_count": 87,
     "metadata": {},
     "output_type": "execute_result"
    }
   ],
   "source": [
    "df_for_anlys.columns"
   ]
  },
  {
   "cell_type": "code",
   "execution_count": 88,
   "id": "98ab1883-d631-40a9-b239-9da7e35991e2",
   "metadata": {},
   "outputs": [],
   "source": [
    "df_for_anlys = df_for_anlys.rename(columns = {\"name_x\" : \"name\"})"
   ]
  },
  {
   "cell_type": "code",
   "execution_count": 89,
   "id": "2c9697cd-5e81-432e-bbd3-08d91deffad9",
   "metadata": {},
   "outputs": [],
   "source": [
    "def df_maker_team( name):\n",
    "    df_return  = df_for_anlys.copy()\n",
    "    df_return[\"name\"] = np.where(df_for_anlys.name == name, df_for_anlys.name, np.nan)\n",
    "    df_return = df_return.dropna()\n",
    "    df_return = df_return.drop([\"constructorId\"], axis = 1)\n",
    "    return df_return\n",
    "df_for_mclaren = df_maker_team(\"McLaren\")\n",
    "df_for_mercedes = df_maker_team(\"Mercedes\")\n",
    "df_for_redbull = df_maker_team(\"Red Bull\")\n",
    "df_for_ferrari = df_maker_team(\"Ferrari\")\n"
   ]
  },
  {
   "cell_type": "code",
   "execution_count": 90,
   "id": "23c7be70-9cfc-42d5-9bbb-23acf917c484",
   "metadata": {},
   "outputs": [
    {
     "data": {
      "text/plain": [
       "Index(['milliseconds', 'raceId', 'name', 'seconds', 'year', 'round',\n",
       "       'circuitId', 'name_y', 'date', 'time', 'url'],\n",
       "      dtype='object')"
      ]
     },
     "execution_count": 90,
     "metadata": {},
     "output_type": "execute_result"
    }
   ],
   "source": [
    "df_for_ferrari.columns"
   ]
  },
  {
   "cell_type": "code",
   "execution_count": 91,
   "id": "b3849b96-6cb1-454f-9ad1-3e60192c567b",
   "metadata": {},
   "outputs": [
    {
     "data": {
      "text/html": [
       "<div>\n",
       "<style scoped>\n",
       "    .dataframe tbody tr th:only-of-type {\n",
       "        vertical-align: middle;\n",
       "    }\n",
       "\n",
       "    .dataframe tbody tr th {\n",
       "        vertical-align: top;\n",
       "    }\n",
       "\n",
       "    .dataframe thead th {\n",
       "        text-align: right;\n",
       "    }\n",
       "</style>\n",
       "<table border=\"1\" class=\"dataframe\">\n",
       "  <thead>\n",
       "    <tr style=\"text-align: right;\">\n",
       "      <th></th>\n",
       "      <th>milliseconds</th>\n",
       "      <th>raceId</th>\n",
       "      <th>name</th>\n",
       "      <th>seconds</th>\n",
       "      <th>year</th>\n",
       "      <th>round</th>\n",
       "      <th>circuitId</th>\n",
       "      <th>name_y</th>\n",
       "      <th>date</th>\n",
       "      <th>time</th>\n",
       "      <th>url</th>\n",
       "    </tr>\n",
       "  </thead>\n",
       "  <tbody>\n",
       "    <tr>\n",
       "      <th>1679</th>\n",
       "      <td>25856.0</td>\n",
       "      <td>971</td>\n",
       "      <td>Ferrari</td>\n",
       "      <td>25.856</td>\n",
       "      <td>2017</td>\n",
       "      <td>3</td>\n",
       "      <td>3</td>\n",
       "      <td>Bahrain Grand Prix</td>\n",
       "      <td>2017-04-16</td>\n",
       "      <td>15:00:00</td>\n",
       "      <td>https://en.wikipedia.org/wiki/2017_Bahrain_Gra...</td>\n",
       "    </tr>\n",
       "    <tr>\n",
       "      <th>566</th>\n",
       "      <td>19368.0</td>\n",
       "      <td>877</td>\n",
       "      <td>Ferrari</td>\n",
       "      <td>19.368</td>\n",
       "      <td>2012</td>\n",
       "      <td>18</td>\n",
       "      <td>24</td>\n",
       "      <td>Abu Dhabi Grand Prix</td>\n",
       "      <td>2012-11-04</td>\n",
       "      <td>13:00:00</td>\n",
       "      <td>http://en.wikipedia.org/wiki/2012_Abu_Dhabi_Gr...</td>\n",
       "    </tr>\n",
       "    <tr>\n",
       "      <th>1797</th>\n",
       "      <td>23575.0</td>\n",
       "      <td>985</td>\n",
       "      <td>Ferrari</td>\n",
       "      <td>23.575</td>\n",
       "      <td>2017</td>\n",
       "      <td>17</td>\n",
       "      <td>69</td>\n",
       "      <td>United States Grand Prix</td>\n",
       "      <td>2017-10-22</td>\n",
       "      <td>19:00:00</td>\n",
       "      <td>https://en.wikipedia.org/wiki/2017_United_Stat...</td>\n",
       "    </tr>\n",
       "    <tr>\n",
       "      <th>1693</th>\n",
       "      <td>24306.0</td>\n",
       "      <td>974</td>\n",
       "      <td>Ferrari</td>\n",
       "      <td>24.306</td>\n",
       "      <td>2017</td>\n",
       "      <td>6</td>\n",
       "      <td>6</td>\n",
       "      <td>Monaco Grand Prix</td>\n",
       "      <td>2017-05-28</td>\n",
       "      <td>12:00:00</td>\n",
       "      <td>https://en.wikipedia.org/wiki/2017_Monaco_Gran...</td>\n",
       "    </tr>\n",
       "    <tr>\n",
       "      <th>113</th>\n",
       "      <td>24886.0</td>\n",
       "      <td>847</td>\n",
       "      <td>Ferrari</td>\n",
       "      <td>24.886</td>\n",
       "      <td>2011</td>\n",
       "      <td>7</td>\n",
       "      <td>7</td>\n",
       "      <td>Canadian Grand Prix</td>\n",
       "      <td>2011-06-12</td>\n",
       "      <td>17:00:00</td>\n",
       "      <td>http://en.wikipedia.org/wiki/2011_Canadian_Gra...</td>\n",
       "    </tr>\n",
       "  </tbody>\n",
       "</table>\n",
       "</div>"
      ],
      "text/plain": [
       "      milliseconds  raceId     name  seconds  year  round  circuitId  \\\n",
       "1679       25856.0     971  Ferrari   25.856  2017      3          3   \n",
       "566        19368.0     877  Ferrari   19.368  2012     18         24   \n",
       "1797       23575.0     985  Ferrari   23.575  2017     17         69   \n",
       "1693       24306.0     974  Ferrari   24.306  2017      6          6   \n",
       "113        24886.0     847  Ferrari   24.886  2011      7          7   \n",
       "\n",
       "                        name_y        date      time  \\\n",
       "1679        Bahrain Grand Prix  2017-04-16  15:00:00   \n",
       "566       Abu Dhabi Grand Prix  2012-11-04  13:00:00   \n",
       "1797  United States Grand Prix  2017-10-22  19:00:00   \n",
       "1693         Monaco Grand Prix  2017-05-28  12:00:00   \n",
       "113        Canadian Grand Prix  2011-06-12  17:00:00   \n",
       "\n",
       "                                                    url  \n",
       "1679  https://en.wikipedia.org/wiki/2017_Bahrain_Gra...  \n",
       "566   http://en.wikipedia.org/wiki/2012_Abu_Dhabi_Gr...  \n",
       "1797  https://en.wikipedia.org/wiki/2017_United_Stat...  \n",
       "1693  https://en.wikipedia.org/wiki/2017_Monaco_Gran...  \n",
       "113   http://en.wikipedia.org/wiki/2011_Canadian_Gra...  "
      ]
     },
     "execution_count": 91,
     "metadata": {},
     "output_type": "execute_result"
    }
   ],
   "source": [
    "df_for_ferrari.sample(5)"
   ]
  },
  {
   "cell_type": "code",
   "execution_count": 134,
   "id": "e2e46329-bd66-4890-9c87-83c5811028ac",
   "metadata": {},
   "outputs": [
    {
     "data": {
      "text/plain": [
       "year\n",
       "2011    22621.639535\n",
       "2012    22147.142857\n",
       "2013    22451.284091\n",
       "2014    23931.196721\n",
       "2015    24258.241379\n",
       "2016    23759.839506\n",
       "2017    22870.564516\n",
       "Name: milliseconds, dtype: float64"
      ]
     },
     "execution_count": 134,
     "metadata": {},
     "output_type": "execute_result"
    }
   ],
   "source": [
    "group_year = df_for_ferrari.groupby(\"year\")\n",
    "group_year.milliseconds.mean()"
   ]
  },
  {
   "cell_type": "code",
   "execution_count": null,
   "id": "97078d43-6f7c-48f7-98ea-1bb98ab86806",
   "metadata": {},
   "outputs": [],
   "source": [
    "s"
   ]
  },
  {
   "cell_type": "code",
   "execution_count": 93,
   "id": "b0ab6015-aa48-42ea-8648-3d9ac83ff6ee",
   "metadata": {},
   "outputs": [
    {
     "data": {
      "text/html": [
       "<div>\n",
       "<style scoped>\n",
       "    .dataframe tbody tr th:only-of-type {\n",
       "        vertical-align: middle;\n",
       "    }\n",
       "\n",
       "    .dataframe tbody tr th {\n",
       "        vertical-align: top;\n",
       "    }\n",
       "\n",
       "    .dataframe thead th {\n",
       "        text-align: right;\n",
       "    }\n",
       "</style>\n",
       "<table border=\"1\" class=\"dataframe\">\n",
       "  <thead>\n",
       "    <tr style=\"text-align: right;\">\n",
       "      <th></th>\n",
       "      <th>milliseconds</th>\n",
       "      <th>raceId</th>\n",
       "      <th>name</th>\n",
       "      <th>seconds</th>\n",
       "      <th>year</th>\n",
       "      <th>round</th>\n",
       "      <th>circuitId</th>\n",
       "      <th>name_y</th>\n",
       "      <th>date</th>\n",
       "      <th>time</th>\n",
       "      <th>url</th>\n",
       "    </tr>\n",
       "  </thead>\n",
       "  <tbody>\n",
       "    <tr>\n",
       "      <th>1352</th>\n",
       "      <td>21339.0</td>\n",
       "      <td>948</td>\n",
       "      <td>Ferrari</td>\n",
       "      <td>21.339</td>\n",
       "      <td>2016</td>\n",
       "      <td>1</td>\n",
       "      <td>1</td>\n",
       "      <td>Australian Grand Prix</td>\n",
       "      <td>2016-03-20</td>\n",
       "      <td>05:00:00</td>\n",
       "      <td>https://en.wikipedia.org/wiki/2016_Australian_...</td>\n",
       "    </tr>\n",
       "    <tr>\n",
       "      <th>1353</th>\n",
       "      <td>23340.0</td>\n",
       "      <td>948</td>\n",
       "      <td>Ferrari</td>\n",
       "      <td>23.340</td>\n",
       "      <td>2016</td>\n",
       "      <td>1</td>\n",
       "      <td>1</td>\n",
       "      <td>Australian Grand Prix</td>\n",
       "      <td>2016-03-20</td>\n",
       "      <td>05:00:00</td>\n",
       "      <td>https://en.wikipedia.org/wiki/2016_Australian_...</td>\n",
       "    </tr>\n",
       "    <tr>\n",
       "      <th>1354</th>\n",
       "      <td>24548.0</td>\n",
       "      <td>948</td>\n",
       "      <td>Ferrari</td>\n",
       "      <td>24.548</td>\n",
       "      <td>2016</td>\n",
       "      <td>1</td>\n",
       "      <td>1</td>\n",
       "      <td>Australian Grand Prix</td>\n",
       "      <td>2016-03-20</td>\n",
       "      <td>05:00:00</td>\n",
       "      <td>https://en.wikipedia.org/wiki/2016_Australian_...</td>\n",
       "    </tr>\n",
       "    <tr>\n",
       "      <th>1361</th>\n",
       "      <td>24720.0</td>\n",
       "      <td>949</td>\n",
       "      <td>Ferrari</td>\n",
       "      <td>24.720</td>\n",
       "      <td>2016</td>\n",
       "      <td>2</td>\n",
       "      <td>3</td>\n",
       "      <td>Bahrain Grand Prix</td>\n",
       "      <td>2016-04-03</td>\n",
       "      <td>15:00:00</td>\n",
       "      <td>https://en.wikipedia.org/wiki/2016_Bahrain_Gra...</td>\n",
       "    </tr>\n",
       "    <tr>\n",
       "      <th>1362</th>\n",
       "      <td>25222.0</td>\n",
       "      <td>949</td>\n",
       "      <td>Ferrari</td>\n",
       "      <td>25.222</td>\n",
       "      <td>2016</td>\n",
       "      <td>2</td>\n",
       "      <td>3</td>\n",
       "      <td>Bahrain Grand Prix</td>\n",
       "      <td>2016-04-03</td>\n",
       "      <td>15:00:00</td>\n",
       "      <td>https://en.wikipedia.org/wiki/2016_Bahrain_Gra...</td>\n",
       "    </tr>\n",
       "    <tr>\n",
       "      <th>...</th>\n",
       "      <td>...</td>\n",
       "      <td>...</td>\n",
       "      <td>...</td>\n",
       "      <td>...</td>\n",
       "      <td>...</td>\n",
       "      <td>...</td>\n",
       "      <td>...</td>\n",
       "      <td>...</td>\n",
       "      <td>...</td>\n",
       "      <td>...</td>\n",
       "      <td>...</td>\n",
       "    </tr>\n",
       "    <tr>\n",
       "      <th>1615</th>\n",
       "      <td>23340.0</td>\n",
       "      <td>967</td>\n",
       "      <td>Ferrari</td>\n",
       "      <td>23.340</td>\n",
       "      <td>2016</td>\n",
       "      <td>20</td>\n",
       "      <td>18</td>\n",
       "      <td>Brazilian Grand Prix</td>\n",
       "      <td>2016-11-13</td>\n",
       "      <td>16:00:00</td>\n",
       "      <td>https://en.wikipedia.org/wiki/2016_Brazilian_G...</td>\n",
       "    </tr>\n",
       "    <tr>\n",
       "      <th>1633</th>\n",
       "      <td>21711.0</td>\n",
       "      <td>968</td>\n",
       "      <td>Ferrari</td>\n",
       "      <td>21.711</td>\n",
       "      <td>2016</td>\n",
       "      <td>21</td>\n",
       "      <td>24</td>\n",
       "      <td>Abu Dhabi Grand Prix</td>\n",
       "      <td>2016-11-27</td>\n",
       "      <td>13:00:00</td>\n",
       "      <td>https://en.wikipedia.org/wiki/2016_Abu_Dhabi_G...</td>\n",
       "    </tr>\n",
       "    <tr>\n",
       "      <th>1634</th>\n",
       "      <td>21872.0</td>\n",
       "      <td>968</td>\n",
       "      <td>Ferrari</td>\n",
       "      <td>21.872</td>\n",
       "      <td>2016</td>\n",
       "      <td>21</td>\n",
       "      <td>24</td>\n",
       "      <td>Abu Dhabi Grand Prix</td>\n",
       "      <td>2016-11-27</td>\n",
       "      <td>13:00:00</td>\n",
       "      <td>https://en.wikipedia.org/wiki/2016_Abu_Dhabi_G...</td>\n",
       "    </tr>\n",
       "    <tr>\n",
       "      <th>1638</th>\n",
       "      <td>21959.0</td>\n",
       "      <td>968</td>\n",
       "      <td>Ferrari</td>\n",
       "      <td>21.959</td>\n",
       "      <td>2016</td>\n",
       "      <td>21</td>\n",
       "      <td>24</td>\n",
       "      <td>Abu Dhabi Grand Prix</td>\n",
       "      <td>2016-11-27</td>\n",
       "      <td>13:00:00</td>\n",
       "      <td>https://en.wikipedia.org/wiki/2016_Abu_Dhabi_G...</td>\n",
       "    </tr>\n",
       "    <tr>\n",
       "      <th>1639</th>\n",
       "      <td>22087.0</td>\n",
       "      <td>968</td>\n",
       "      <td>Ferrari</td>\n",
       "      <td>22.087</td>\n",
       "      <td>2016</td>\n",
       "      <td>21</td>\n",
       "      <td>24</td>\n",
       "      <td>Abu Dhabi Grand Prix</td>\n",
       "      <td>2016-11-27</td>\n",
       "      <td>13:00:00</td>\n",
       "      <td>https://en.wikipedia.org/wiki/2016_Abu_Dhabi_G...</td>\n",
       "    </tr>\n",
       "  </tbody>\n",
       "</table>\n",
       "<p>81 rows × 11 columns</p>\n",
       "</div>"
      ],
      "text/plain": [
       "      milliseconds  raceId     name  seconds  year  round  circuitId  \\\n",
       "1352       21339.0     948  Ferrari   21.339  2016      1          1   \n",
       "1353       23340.0     948  Ferrari   23.340  2016      1          1   \n",
       "1354       24548.0     948  Ferrari   24.548  2016      1          1   \n",
       "1361       24720.0     949  Ferrari   24.720  2016      2          3   \n",
       "1362       25222.0     949  Ferrari   25.222  2016      2          3   \n",
       "...            ...     ...      ...      ...   ...    ...        ...   \n",
       "1615       23340.0     967  Ferrari   23.340  2016     20         18   \n",
       "1633       21711.0     968  Ferrari   21.711  2016     21         24   \n",
       "1634       21872.0     968  Ferrari   21.872  2016     21         24   \n",
       "1638       21959.0     968  Ferrari   21.959  2016     21         24   \n",
       "1639       22087.0     968  Ferrari   22.087  2016     21         24   \n",
       "\n",
       "                     name_y        date      time  \\\n",
       "1352  Australian Grand Prix  2016-03-20  05:00:00   \n",
       "1353  Australian Grand Prix  2016-03-20  05:00:00   \n",
       "1354  Australian Grand Prix  2016-03-20  05:00:00   \n",
       "1361     Bahrain Grand Prix  2016-04-03  15:00:00   \n",
       "1362     Bahrain Grand Prix  2016-04-03  15:00:00   \n",
       "...                     ...         ...       ...   \n",
       "1615   Brazilian Grand Prix  2016-11-13  16:00:00   \n",
       "1633   Abu Dhabi Grand Prix  2016-11-27  13:00:00   \n",
       "1634   Abu Dhabi Grand Prix  2016-11-27  13:00:00   \n",
       "1638   Abu Dhabi Grand Prix  2016-11-27  13:00:00   \n",
       "1639   Abu Dhabi Grand Prix  2016-11-27  13:00:00   \n",
       "\n",
       "                                                    url  \n",
       "1352  https://en.wikipedia.org/wiki/2016_Australian_...  \n",
       "1353  https://en.wikipedia.org/wiki/2016_Australian_...  \n",
       "1354  https://en.wikipedia.org/wiki/2016_Australian_...  \n",
       "1361  https://en.wikipedia.org/wiki/2016_Bahrain_Gra...  \n",
       "1362  https://en.wikipedia.org/wiki/2016_Bahrain_Gra...  \n",
       "...                                                 ...  \n",
       "1615  https://en.wikipedia.org/wiki/2016_Brazilian_G...  \n",
       "1633  https://en.wikipedia.org/wiki/2016_Abu_Dhabi_G...  \n",
       "1634  https://en.wikipedia.org/wiki/2016_Abu_Dhabi_G...  \n",
       "1638  https://en.wikipedia.org/wiki/2016_Abu_Dhabi_G...  \n",
       "1639  https://en.wikipedia.org/wiki/2016_Abu_Dhabi_G...  \n",
       "\n",
       "[81 rows x 11 columns]"
      ]
     },
     "execution_count": 93,
     "metadata": {},
     "output_type": "execute_result"
    }
   ],
   "source": [
    "df_for_ferrari[df_for_ferrari.year == 2016]"
   ]
  },
  {
   "cell_type": "code",
   "execution_count": 94,
   "id": "d90d86a1-cf3e-40c4-b2fe-866e8c9fd225",
   "metadata": {},
   "outputs": [
    {
     "data": {
      "text/plain": [
       "year\n",
       "2011    22136.720000\n",
       "2012    21953.540984\n",
       "2013    22545.303797\n",
       "2014    24097.779412\n",
       "2015    23588.205479\n",
       "2016    23711.952381\n",
       "2017    23078.764706\n",
       "Name: milliseconds, dtype: float64"
      ]
     },
     "execution_count": 94,
     "metadata": {},
     "output_type": "execute_result"
    }
   ],
   "source": [
    "\n",
    "\n",
    "mercedes = df_for_mercedes.groupby(\"year\").milliseconds.mean()\n",
    "mercedes"
   ]
  },
  {
   "cell_type": "code",
   "execution_count": 95,
   "id": "a46c207a-3c3c-4209-9c3b-3f9b1d1b0ea9",
   "metadata": {},
   "outputs": [
    {
     "data": {
      "text/plain": [
       "Index(['milliseconds', 'raceId', 'name', 'seconds', 'year', 'round',\n",
       "       'circuitId', 'name_y', 'date', 'time', 'url'],\n",
       "      dtype='object')"
      ]
     },
     "execution_count": 95,
     "metadata": {},
     "output_type": "execute_result"
    }
   ],
   "source": [
    "df_for_mercedes.columns"
   ]
  },
  {
   "cell_type": "code",
   "execution_count": 96,
   "id": "6938166a-f772-4f42-acb3-784e33750100",
   "metadata": {},
   "outputs": [
    {
     "data": {
      "text/html": [
       "<div>\n",
       "<style scoped>\n",
       "    .dataframe tbody tr th:only-of-type {\n",
       "        vertical-align: middle;\n",
       "    }\n",
       "\n",
       "    .dataframe tbody tr th {\n",
       "        vertical-align: top;\n",
       "    }\n",
       "\n",
       "    .dataframe thead th {\n",
       "        text-align: right;\n",
       "    }\n",
       "</style>\n",
       "<table border=\"1\" class=\"dataframe\">\n",
       "  <thead>\n",
       "    <tr style=\"text-align: right;\">\n",
       "      <th></th>\n",
       "      <th>milliseconds</th>\n",
       "      <th>raceId</th>\n",
       "      <th>name</th>\n",
       "      <th>seconds</th>\n",
       "      <th>year</th>\n",
       "      <th>round</th>\n",
       "      <th>circuitId</th>\n",
       "      <th>name_y</th>\n",
       "      <th>date</th>\n",
       "      <th>time</th>\n",
       "      <th>url</th>\n",
       "    </tr>\n",
       "  </thead>\n",
       "  <tbody>\n",
       "    <tr>\n",
       "      <th>4</th>\n",
       "      <td>23251.0</td>\n",
       "      <td>841</td>\n",
       "      <td>Ferrari</td>\n",
       "      <td>23.251</td>\n",
       "      <td>2011</td>\n",
       "      <td>1</td>\n",
       "      <td>1</td>\n",
       "      <td>Australian Grand Prix</td>\n",
       "      <td>2011-03-27</td>\n",
       "      <td>06:00:00</td>\n",
       "      <td>http://en.wikipedia.org/wiki/2011_Australian_G...</td>\n",
       "    </tr>\n",
       "    <tr>\n",
       "      <th>5</th>\n",
       "      <td>24733.0</td>\n",
       "      <td>841</td>\n",
       "      <td>Ferrari</td>\n",
       "      <td>24.733</td>\n",
       "      <td>2011</td>\n",
       "      <td>1</td>\n",
       "      <td>1</td>\n",
       "      <td>Australian Grand Prix</td>\n",
       "      <td>2011-03-27</td>\n",
       "      <td>06:00:00</td>\n",
       "      <td>http://en.wikipedia.org/wiki/2011_Australian_G...</td>\n",
       "    </tr>\n",
       "    <tr>\n",
       "      <th>6</th>\n",
       "      <td>24181.0</td>\n",
       "      <td>841</td>\n",
       "      <td>Ferrari</td>\n",
       "      <td>24.181</td>\n",
       "      <td>2011</td>\n",
       "      <td>1</td>\n",
       "      <td>1</td>\n",
       "      <td>Australian Grand Prix</td>\n",
       "      <td>2011-03-27</td>\n",
       "      <td>06:00:00</td>\n",
       "      <td>http://en.wikipedia.org/wiki/2011_Australian_G...</td>\n",
       "    </tr>\n",
       "    <tr>\n",
       "      <th>13</th>\n",
       "      <td>23842.0</td>\n",
       "      <td>841</td>\n",
       "      <td>Ferrari</td>\n",
       "      <td>23.842</td>\n",
       "      <td>2011</td>\n",
       "      <td>1</td>\n",
       "      <td>1</td>\n",
       "      <td>Australian Grand Prix</td>\n",
       "      <td>2011-03-27</td>\n",
       "      <td>06:00:00</td>\n",
       "      <td>http://en.wikipedia.org/wiki/2011_Australian_G...</td>\n",
       "    </tr>\n",
       "    <tr>\n",
       "      <th>14</th>\n",
       "      <td>24500.0</td>\n",
       "      <td>841</td>\n",
       "      <td>Ferrari</td>\n",
       "      <td>24.500</td>\n",
       "      <td>2011</td>\n",
       "      <td>1</td>\n",
       "      <td>1</td>\n",
       "      <td>Australian Grand Prix</td>\n",
       "      <td>2011-03-27</td>\n",
       "      <td>06:00:00</td>\n",
       "      <td>http://en.wikipedia.org/wiki/2011_Australian_G...</td>\n",
       "    </tr>\n",
       "    <tr>\n",
       "      <th>...</th>\n",
       "      <td>...</td>\n",
       "      <td>...</td>\n",
       "      <td>...</td>\n",
       "      <td>...</td>\n",
       "      <td>...</td>\n",
       "      <td>...</td>\n",
       "      <td>...</td>\n",
       "      <td>...</td>\n",
       "      <td>...</td>\n",
       "      <td>...</td>\n",
       "      <td>...</td>\n",
       "    </tr>\n",
       "    <tr>\n",
       "      <th>1818</th>\n",
       "      <td>18027.0</td>\n",
       "      <td>987</td>\n",
       "      <td>Ferrari</td>\n",
       "      <td>18.027</td>\n",
       "      <td>2017</td>\n",
       "      <td>19</td>\n",
       "      <td>18</td>\n",
       "      <td>Brazilian Grand Prix</td>\n",
       "      <td>2017-11-12</td>\n",
       "      <td>16:00:00</td>\n",
       "      <td>https://en.wikipedia.org/wiki/2017_Brazilian_G...</td>\n",
       "    </tr>\n",
       "    <tr>\n",
       "      <th>1819</th>\n",
       "      <td>18290.0</td>\n",
       "      <td>987</td>\n",
       "      <td>Ferrari</td>\n",
       "      <td>18.290</td>\n",
       "      <td>2017</td>\n",
       "      <td>19</td>\n",
       "      <td>18</td>\n",
       "      <td>Brazilian Grand Prix</td>\n",
       "      <td>2017-11-12</td>\n",
       "      <td>16:00:00</td>\n",
       "      <td>https://en.wikipedia.org/wiki/2017_Brazilian_G...</td>\n",
       "    </tr>\n",
       "    <tr>\n",
       "      <th>1820</th>\n",
       "      <td>23170.0</td>\n",
       "      <td>987</td>\n",
       "      <td>Ferrari</td>\n",
       "      <td>23.170</td>\n",
       "      <td>2017</td>\n",
       "      <td>19</td>\n",
       "      <td>18</td>\n",
       "      <td>Brazilian Grand Prix</td>\n",
       "      <td>2017-11-12</td>\n",
       "      <td>16:00:00</td>\n",
       "      <td>https://en.wikipedia.org/wiki/2017_Brazilian_G...</td>\n",
       "    </tr>\n",
       "    <tr>\n",
       "      <th>1840</th>\n",
       "      <td>21221.0</td>\n",
       "      <td>988</td>\n",
       "      <td>Ferrari</td>\n",
       "      <td>21.221</td>\n",
       "      <td>2017</td>\n",
       "      <td>20</td>\n",
       "      <td>24</td>\n",
       "      <td>Abu Dhabi Grand Prix</td>\n",
       "      <td>2017-11-26</td>\n",
       "      <td>13:00:00</td>\n",
       "      <td>https://en.wikipedia.org/wiki/2017_Abu_Dhabi_G...</td>\n",
       "    </tr>\n",
       "    <tr>\n",
       "      <th>1841</th>\n",
       "      <td>21609.0</td>\n",
       "      <td>988</td>\n",
       "      <td>Ferrari</td>\n",
       "      <td>21.609</td>\n",
       "      <td>2017</td>\n",
       "      <td>20</td>\n",
       "      <td>24</td>\n",
       "      <td>Abu Dhabi Grand Prix</td>\n",
       "      <td>2017-11-26</td>\n",
       "      <td>13:00:00</td>\n",
       "      <td>https://en.wikipedia.org/wiki/2017_Abu_Dhabi_G...</td>\n",
       "    </tr>\n",
       "  </tbody>\n",
       "</table>\n",
       "<p>506 rows × 11 columns</p>\n",
       "</div>"
      ],
      "text/plain": [
       "      milliseconds  raceId     name  seconds  year  round  circuitId  \\\n",
       "4          23251.0     841  Ferrari   23.251  2011      1          1   \n",
       "5          24733.0     841  Ferrari   24.733  2011      1          1   \n",
       "6          24181.0     841  Ferrari   24.181  2011      1          1   \n",
       "13         23842.0     841  Ferrari   23.842  2011      1          1   \n",
       "14         24500.0     841  Ferrari   24.500  2011      1          1   \n",
       "...            ...     ...      ...      ...   ...    ...        ...   \n",
       "1818       18027.0     987  Ferrari   18.027  2017     19         18   \n",
       "1819       18290.0     987  Ferrari   18.290  2017     19         18   \n",
       "1820       23170.0     987  Ferrari   23.170  2017     19         18   \n",
       "1840       21221.0     988  Ferrari   21.221  2017     20         24   \n",
       "1841       21609.0     988  Ferrari   21.609  2017     20         24   \n",
       "\n",
       "                     name_y        date      time  \\\n",
       "4     Australian Grand Prix  2011-03-27  06:00:00   \n",
       "5     Australian Grand Prix  2011-03-27  06:00:00   \n",
       "6     Australian Grand Prix  2011-03-27  06:00:00   \n",
       "13    Australian Grand Prix  2011-03-27  06:00:00   \n",
       "14    Australian Grand Prix  2011-03-27  06:00:00   \n",
       "...                     ...         ...       ...   \n",
       "1818   Brazilian Grand Prix  2017-11-12  16:00:00   \n",
       "1819   Brazilian Grand Prix  2017-11-12  16:00:00   \n",
       "1820   Brazilian Grand Prix  2017-11-12  16:00:00   \n",
       "1840   Abu Dhabi Grand Prix  2017-11-26  13:00:00   \n",
       "1841   Abu Dhabi Grand Prix  2017-11-26  13:00:00   \n",
       "\n",
       "                                                    url  \n",
       "4     http://en.wikipedia.org/wiki/2011_Australian_G...  \n",
       "5     http://en.wikipedia.org/wiki/2011_Australian_G...  \n",
       "6     http://en.wikipedia.org/wiki/2011_Australian_G...  \n",
       "13    http://en.wikipedia.org/wiki/2011_Australian_G...  \n",
       "14    http://en.wikipedia.org/wiki/2011_Australian_G...  \n",
       "...                                                 ...  \n",
       "1818  https://en.wikipedia.org/wiki/2017_Brazilian_G...  \n",
       "1819  https://en.wikipedia.org/wiki/2017_Brazilian_G...  \n",
       "1820  https://en.wikipedia.org/wiki/2017_Brazilian_G...  \n",
       "1840  https://en.wikipedia.org/wiki/2017_Abu_Dhabi_G...  \n",
       "1841  https://en.wikipedia.org/wiki/2017_Abu_Dhabi_G...  \n",
       "\n",
       "[506 rows x 11 columns]"
      ]
     },
     "execution_count": 96,
     "metadata": {},
     "output_type": "execute_result"
    }
   ],
   "source": [
    "\n",
    "df_for_ferrari"
   ]
  },
  {
   "cell_type": "code",
   "execution_count": 166,
   "id": "00dea05b-aed8-4025-9edb-c0a5bd3a07ba",
   "metadata": {},
   "outputs": [],
   "source": [
    "temp_df = df_for_anlys.copy()\n",
    "temp_df = temp_df.rename( columns = {'name':'team'})\n",
    "df_for_plot = temp_df.groupby([\"year\",\"team\"],as_index = False)"
   ]
  },
  {
   "cell_type": "code",
   "execution_count": 168,
   "id": "28fb2a04-43e8-4c37-ac28-06a3cec8db23",
   "metadata": {},
   "outputs": [
    {
     "data": {
      "image/png": "[encoded data removed]",
      "text/plain": [
       "<Figure size 640x480 with 1 Axes>"
      ]
     },
     "metadata": {},
     "output_type": "display_data"
    }
   ],
   "source": [
    "sns.set_theme(style=\"whitegrid\", context=\"talk\")\n",
    "ax = sns.lineplot(x=\"year\", y=\"seconds\", style=\"team\",\n",
    "                    data=df_for_plot.seconds.mean(), palette = \"tab10\", dashes = False, markers = True, hue = \"team\")\n",
    "\n",
    "ax.set(\n",
    "    ylim=(21, 25),\n",
    "    xlabel=\"Season\",\n",
    "    ylabel=\"Mean Pit Stop Time (s)\",\n",
    "    title=\"Yearly Average Pit Stop Duration by Team\"\n",
    ")\n",
    "sns.despine()\n",
    "plt.tight_layout()\n",
    "plt.show()"
   ]
  },
  {
   "cell_type": "markdown",
   "id": "1d344b0f-9c61-4695-9c00-57a52b832795",
   "metadata": {},
   "source": [
    "**PLOT ANALYSIS** : \n",
    "Plot shows the yearly average pit Stop Duration by Team from 2011 to 2017. There are both common and individualistic change among the teams. Mercedes has had the best performance in this time period averaging 21.953 seconds among all teams. Meanwhile, Ferrari has had the worst performance in 2015 averaging 24.258 seconds. Mercedes has the lowest average pitStop duration "
   ]
  },
  {
   "cell_type": "code",
   "execution_count": 151,
   "id": "1b80392e-ee76-4af1-a79d-82ff5e3c2230",
   "metadata": {},
   "outputs": [
    {
     "ename": "SyntaxError",
     "evalue": "invalid syntax (515454141.py, line 2)",
     "output_type": "error",
     "traceback": [
      "\u001b[1;36m  Cell \u001b[1;32mIn[151], line 2\u001b[1;36m\u001b[0m\n\u001b[1;33m    global df_mean = df.groupby(\"year\", as_index = False)[\"seconds\"].mean()\u001b[0m\n\u001b[1;37m                   ^\u001b[0m\n\u001b[1;31mSyntaxError\u001b[0m\u001b[1;31m:\u001b[0m invalid syntax\n"
     ]
    }
   ],
   "source": [
    "def plotter(df,name):\n",
    "    df_mean = df.groupby(\"year\", as_index = False)[\"seconds\"].mean()\n",
    "    sns.lineplot(data=df_mean, x=\"year\", y=\"seconds\", marker='o', color='red')\n",
    "    plt.title(f\"Mean Pit Stop Time per Year {name}\")\n",
    "    plt.xlabel(\"Year\")\n",
    "    plt.ylabel(\"Mean Pit Stop Time (seconds)\")\n",
    "    plt.grid(True)\n",
    "    plt.ylim(21.5,25)\n",
    "    plt.tight_layout()\n",
    "    plt.show()"
   ]
  },
  {
   "cell_type": "code",
   "execution_count": 146,
   "id": "7e85b4f6-d67c-4023-93b0-3ee4e2086923",
   "metadata": {},
   "outputs": [
    {
     "data": {
      "image/png": "[encoded data removed]",
      "text/plain": [
       "<Figure size 640x480 with 1 Axes>"
      ]
     },
     "metadata": {},
     "output_type": "display_data"
    }
   ],
   "source": [
    "plotter(df_for_ferrari,\"Ferrari\")"
   ]
  },
  {
   "cell_type": "code",
   "execution_count": 147,
   "id": "512ea57a-6322-4db4-83a4-a88f0f761f1e",
   "metadata": {},
   "outputs": [
    {
     "data": {
      "image/png": "[encoded data removed]",
      "text/plain": [
       "<Figure size 640x480 with 1 Axes>"
      ]
     },
     "metadata": {},
     "output_type": "display_data"
    }
   ],
   "source": [
    "plotter(df_for_mercedes, \"Mercedes\")"
   ]
  },
  {
   "cell_type": "code",
   "execution_count": 148,
   "id": "960716e1-7332-42ac-b088-d5e6eff36614",
   "metadata": {},
   "outputs": [
    {
     "data": {
      "image/png": "[encoded data removed]",
      "text/plain": [
       "<Figure size 640x480 with 1 Axes>"
      ]
     },
     "metadata": {},
     "output_type": "display_data"
    }
   ],
   "source": [
    "plotter(df_for_mclaren, \"McLaren\")"
   ]
  },
  {
   "cell_type": "code",
   "execution_count": 149,
   "id": "6d6d1a46-f094-443e-8324-2023fb0c07b1",
   "metadata": {},
   "outputs": [
    {
     "data": {
      "image/png": "[encoded data removed]",
      "text/plain": [
       "<Figure size 640x480 with 1 Axes>"
      ]
     },
     "metadata": {},
     "output_type": "display_data"
    }
   ],
   "source": [
    "plotter(df_for_redbull, \"Red Bull\")"
   ]
  },
  {
   "cell_type": "code",
   "execution_count": null,
   "id": "313ea7f3-1f43-42a4-879a-b49e1659e5f2",
   "metadata": {},
   "outputs": [],
   "source": []
  },
  {
   "cell_type": "code",
   "execution_count": null,
   "id": "cbfb981d-d66e-4f0b-86ed-5d22d1007c39",
   "metadata": {},
   "outputs": [],
   "source": []
  }
 ],
 "metadata": {
  "kernelspec": {
   "display_name": "Python 3 (ipykernel)",
   "language": "python",
   "name": "python3"
  },
  "language_info": {
   "codemirror_mode": {
    "name": "ipython",
    "version": 3
   },
   "file_extension": ".py",
   "mimetype": "text/x-python",
   "name": "python",
   "nbconvert_exporter": "python",
   "pygments_lexer": "ipython3",
   "version": "3.13.0"
  }
 },
 "nbformat": 4,
 "nbformat_minor": 5
}
